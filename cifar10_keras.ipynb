{
 "cells": [
  {
   "cell_type": "code",
   "execution_count": 1,
   "metadata": {},
   "outputs": [],
   "source": [
    "import tensorflow as tf\n",
    "from tensorflow import keras"
   ]
  },
  {
   "cell_type": "code",
   "execution_count": 2,
   "metadata": {},
   "outputs": [],
   "source": [
    "cifar10 = keras.datasets.cifar10"
   ]
  },
  {
   "cell_type": "code",
   "execution_count": 3,
   "metadata": {},
   "outputs": [],
   "source": [
    "(X_train_full, y_train_full), (X_test, y_test) = cifar10.load_data()"
   ]
  },
  {
   "cell_type": "code",
   "execution_count": 4,
   "metadata": {},
   "outputs": [],
   "source": [
    "X_valid, X_train = X_train_full[:5000], X_train_full[5000:]\n",
    "y_valid, y_train = y_train_full[:5000], y_train_full[5000:]"
   ]
  },
  {
   "cell_type": "code",
   "execution_count": 5,
   "metadata": {},
   "outputs": [
    {
     "data": {
      "text/plain": [
       "((45000, 32, 32, 3), (45000, 1))"
      ]
     },
     "execution_count": 5,
     "metadata": {},
     "output_type": "execute_result"
    }
   ],
   "source": [
    "X_train.shape, y_train.shape"
   ]
  },
  {
   "cell_type": "code",
   "execution_count": 6,
   "metadata": {},
   "outputs": [
    {
     "data": {
      "text/plain": [
       "((10000, 32, 32, 3), (10000, 1))"
      ]
     },
     "execution_count": 6,
     "metadata": {},
     "output_type": "execute_result"
    }
   ],
   "source": [
    "X_test.shape, y_test.shape"
   ]
  },
  {
   "cell_type": "code",
   "execution_count": 7,
   "metadata": {},
   "outputs": [
    {
     "data": {
      "text/plain": [
       "((5000, 32, 32, 3), (5000, 1))"
      ]
     },
     "execution_count": 7,
     "metadata": {},
     "output_type": "execute_result"
    }
   ],
   "source": [
    "X_valid.shape, y_valid.shape"
   ]
  },
  {
   "cell_type": "code",
   "execution_count": 8,
   "metadata": {},
   "outputs": [],
   "source": [
    "model = keras.models.Sequential()"
   ]
  },
  {
   "cell_type": "code",
   "execution_count": 9,
   "metadata": {},
   "outputs": [],
   "source": [
    "model.add(keras.layers.Flatten(input_shape=[32, 32, 3]))"
   ]
  },
  {
   "cell_type": "code",
   "execution_count": 10,
   "metadata": {},
   "outputs": [],
   "source": [
    "from functools import partial"
   ]
  },
  {
   "cell_type": "code",
   "execution_count": 11,
   "metadata": {},
   "outputs": [],
   "source": [
    "BoringLayer = partial(keras.layers.Dense,\n",
    "                      activation='elu',\n",
    "                      kernel_initializer='he_normal')"
   ]
  },
  {
   "cell_type": "code",
   "execution_count": 12,
   "metadata": {},
   "outputs": [],
   "source": [
    "for i in range(20):\n",
    "    model.add(BoringLayer(100))"
   ]
  },
  {
   "cell_type": "code",
   "execution_count": 13,
   "metadata": {},
   "outputs": [],
   "source": [
    "model.add(BoringLayer(10, activation='softmax'))"
   ]
  },
  {
   "cell_type": "code",
   "execution_count": 14,
   "metadata": {},
   "outputs": [
    {
     "name": "stdout",
     "output_type": "stream",
     "text": [
      "Model: \"sequential\"\n",
      "_________________________________________________________________\n",
      "Layer (type)                 Output Shape              Param #   \n",
      "=================================================================\n",
      "flatten (Flatten)            (None, 3072)              0         \n",
      "_________________________________________________________________\n",
      "dense (Dense)                (None, 100)               307300    \n",
      "_________________________________________________________________\n",
      "dense_1 (Dense)              (None, 100)               10100     \n",
      "_________________________________________________________________\n",
      "dense_2 (Dense)              (None, 100)               10100     \n",
      "_________________________________________________________________\n",
      "dense_3 (Dense)              (None, 100)               10100     \n",
      "_________________________________________________________________\n",
      "dense_4 (Dense)              (None, 100)               10100     \n",
      "_________________________________________________________________\n",
      "dense_5 (Dense)              (None, 100)               10100     \n",
      "_________________________________________________________________\n",
      "dense_6 (Dense)              (None, 100)               10100     \n",
      "_________________________________________________________________\n",
      "dense_7 (Dense)              (None, 100)               10100     \n",
      "_________________________________________________________________\n",
      "dense_8 (Dense)              (None, 100)               10100     \n",
      "_________________________________________________________________\n",
      "dense_9 (Dense)              (None, 100)               10100     \n",
      "_________________________________________________________________\n",
      "dense_10 (Dense)             (None, 100)               10100     \n",
      "_________________________________________________________________\n",
      "dense_11 (Dense)             (None, 100)               10100     \n",
      "_________________________________________________________________\n",
      "dense_12 (Dense)             (None, 100)               10100     \n",
      "_________________________________________________________________\n",
      "dense_13 (Dense)             (None, 100)               10100     \n",
      "_________________________________________________________________\n",
      "dense_14 (Dense)             (None, 100)               10100     \n",
      "_________________________________________________________________\n",
      "dense_15 (Dense)             (None, 100)               10100     \n",
      "_________________________________________________________________\n",
      "dense_16 (Dense)             (None, 100)               10100     \n",
      "_________________________________________________________________\n",
      "dense_17 (Dense)             (None, 100)               10100     \n",
      "_________________________________________________________________\n",
      "dense_18 (Dense)             (None, 100)               10100     \n",
      "_________________________________________________________________\n",
      "dense_19 (Dense)             (None, 100)               10100     \n",
      "_________________________________________________________________\n",
      "dense_20 (Dense)             (None, 10)                1010      \n",
      "=================================================================\n",
      "Total params: 500,210\n",
      "Trainable params: 500,210\n",
      "Non-trainable params: 0\n",
      "_________________________________________________________________\n"
     ]
    }
   ],
   "source": [
    "model.summary()"
   ]
  },
  {
   "cell_type": "code",
   "execution_count": 15,
   "metadata": {},
   "outputs": [],
   "source": [
    "optimizer = keras.optimizers.Nadam(learning_rate=0.001, beta_1=0.9,\n",
    "                                   beta_2=0.999, epsilon=1e-07,\n",
    "                                   name='Nadam')"
   ]
  },
  {
   "cell_type": "code",
   "execution_count": 16,
   "metadata": {},
   "outputs": [],
   "source": [
    "# seems like I need a build model function -> then I need a scikit learn wrapper\n",
    "# -> call this wrapper on Grid search (param grid will have different learning rates)\n",
    "# -> specify different callbacks before grid search "
   ]
  },
  {
   "cell_type": "code",
   "execution_count": 17,
   "metadata": {},
   "outputs": [],
   "source": [
    "early_stopping_cb = keras.callbacks.EarlyStopping(patience=10, restore_best_weights=True)\n",
    "checkpoint_cb = keras.callbacks.ModelCheckpoint('cifar_model.h5', save_best_only=True)"
   ]
  },
  {
   "cell_type": "code",
   "execution_count": 18,
   "metadata": {},
   "outputs": [],
   "source": [
    "import os\n",
    "root_logdir = os.path.join(os.curdir, 'my_logs')"
   ]
  },
  {
   "cell_type": "code",
   "execution_count": 19,
   "metadata": {},
   "outputs": [],
   "source": [
    "def get_run_logdir():\n",
    "    import time\n",
    "    run_id = time.strftime('run_%Y_$m_%d-%H_%M_%S')\n",
    "    return os.path.join(root_logdir, run_id)"
   ]
  },
  {
   "cell_type": "code",
   "execution_count": 20,
   "metadata": {},
   "outputs": [],
   "source": [
    "# # ok let's do this from scratch\n",
    "# def build_model(learning_rate='1e-5'):\n",
    "#     model = keras.models.Sequential()\n",
    "#     model.add(keras.layers.Flatten(input_shape=[32, 32, 3]))\n",
    "#     for i in range(20):\n",
    "#         model.add(BoringLayer(100))\n",
    "#     model.add(BoringLayer(10, activation='softmax'))\n",
    "#     optimizer = keras.optimizers.Nadam(learning_rate=learning_rate, beta_1=0.9,\n",
    "#                                    beta_2=0.999, epsilon=1e-07,\n",
    "#                                    name='Nadam')\n",
    "#     model.compile(loss=keras.losses.SparseCategoricalCrossentropy(),\n",
    "#                   optimizer=optimizer, \n",
    "#                   metrics=['accuracy']\n",
    "#                  )\n",
    "#     return model"
   ]
  },
  {
   "cell_type": "code",
   "execution_count": 22,
   "metadata": {},
   "outputs": [],
   "source": [
    "# keras_reg = keras.wrappers.scikit_learn.KerasRegressor(build_model)"
   ]
  },
  {
   "cell_type": "code",
   "execution_count": 23,
   "metadata": {},
   "outputs": [],
   "source": [
    "tensorboard_cb = keras.callbacks.TensorBoard(get_run_logdir())"
   ]
  },
  {
   "cell_type": "code",
   "execution_count": 24,
   "metadata": {},
   "outputs": [],
   "source": [
    "# from scipy.stats import reciprocal\n",
    "# params = {'learning_rate': reciprocal(5e-5, 1e-2)}"
   ]
  },
  {
   "cell_type": "code",
   "execution_count": 25,
   "metadata": {},
   "outputs": [],
   "source": [
    "# from sklearn.model_selection import RandomizedSearchCV"
   ]
  },
  {
   "cell_type": "code",
   "execution_count": 26,
   "metadata": {},
   "outputs": [],
   "source": [
    "# rnd_search_cv = RandomizedSearchCV(keras_reg, params, n_iter=10, cv=3)"
   ]
  },
  {
   "cell_type": "code",
   "execution_count": 27,
   "metadata": {},
   "outputs": [],
   "source": [
    "# rnd_search_cv.fit(X_train, y_train, epochs=50,\n",
    "#                  validation_data=(X_valid, y_valid),\n",
    "#                   callbacks=[early_stopping_cb, checkpoint_cb, tensorboard_cb])"
   ]
  },
  {
   "cell_type": "code",
   "execution_count": 30,
   "metadata": {},
   "outputs": [],
   "source": [
    "model.compile(loss=keras.losses.SparseCategoricalCrossentropy(),\n",
    "                  optimizer=optimizer, \n",
    "                  metrics=['accuracy'])"
   ]
  },
  {
   "cell_type": "code",
   "execution_count": 31,
   "metadata": {},
   "outputs": [
    {
     "name": "stdout",
     "output_type": "stream",
     "text": [
      "Epoch 1/50\n",
      "1407/1407 [==============================] - 22s 14ms/step - loss: 10.7351 - accuracy: 0.1835 - val_loss: 2.1613 - val_accuracy: 0.1872\n",
      "Epoch 2/50\n",
      "1407/1407 [==============================] - 17s 12ms/step - loss: 1.9563 - accuracy: 0.2817 - val_loss: 2.0392 - val_accuracy: 0.2488\n",
      "Epoch 3/50\n",
      "1407/1407 [==============================] - 19s 14ms/step - loss: 1.8811 - accuracy: 0.3102 - val_loss: 1.8567 - val_accuracy: 0.3226\n",
      "Epoch 4/50\n",
      "1407/1407 [==============================] - 17s 12ms/step - loss: 1.8392 - accuracy: 0.3266 - val_loss: 1.8088 - val_accuracy: 0.3388\n",
      "Epoch 5/50\n",
      "1407/1407 [==============================] - 19s 13ms/step - loss: 1.8142 - accuracy: 0.3402 - val_loss: 1.8117 - val_accuracy: 0.3416\n",
      "Epoch 6/50\n",
      "1407/1407 [==============================] - 19s 14ms/step - loss: 1.8135 - accuracy: 0.3419 - val_loss: 2.0207 - val_accuracy: 0.2772\n",
      "Epoch 7/50\n",
      "1407/1407 [==============================] - 18s 13ms/step - loss: 1.7703 - accuracy: 0.3635 - val_loss: 1.9970 - val_accuracy: 0.3036\n",
      "Epoch 8/50\n",
      "1407/1407 [==============================] - 24s 17ms/step - loss: 1.7459 - accuracy: 0.3691 - val_loss: 1.8536 - val_accuracy: 0.3382\n",
      "Epoch 9/50\n",
      "1407/1407 [==============================] - 21s 15ms/step - loss: 2.1881 - accuracy: 0.2545 - val_loss: 2.0980 - val_accuracy: 0.1932\n",
      "Epoch 10/50\n",
      "1407/1407 [==============================] - 20s 14ms/step - loss: 2.0166 - accuracy: 0.2261 - val_loss: 1.9047 - val_accuracy: 0.2758\n",
      "Epoch 11/50\n",
      "1407/1407 [==============================] - 25s 17ms/step - loss: 1.9177 - accuracy: 0.2673 - val_loss: 1.9088 - val_accuracy: 0.2692\n",
      "Epoch 12/50\n",
      "1407/1407 [==============================] - 22s 16ms/step - loss: 1.8777 - accuracy: 0.2864 - val_loss: 1.9266 - val_accuracy: 0.2814\n",
      "Epoch 13/50\n",
      "1407/1407 [==============================] - 17s 12ms/step - loss: 1.8522 - accuracy: 0.3012 - val_loss: 1.9235 - val_accuracy: 0.2904\n",
      "Epoch 14/50\n",
      "1407/1407 [==============================] - 15s 11ms/step - loss: 1.8411 - accuracy: 0.3054 - val_loss: 1.8222 - val_accuracy: 0.3070\n"
     ]
    }
   ],
   "source": [
    "history = model.fit(X_train, y_train, epochs=50,\n",
    "                    validation_data=(X_valid, y_valid),\n",
    "                    callbacks=[early_stopping_cb, checkpoint_cb, tensorboard_cb])"
   ]
  },
  {
   "cell_type": "code",
   "execution_count": 32,
   "metadata": {},
   "outputs": [],
   "source": [
    "model = keras.models.load_model('cifar_model.h5')"
   ]
  },
  {
   "cell_type": "code",
   "execution_count": 33,
   "metadata": {},
   "outputs": [
    {
     "name": "stdout",
     "output_type": "stream",
     "text": [
      "313/313 [==============================] - 1s 3ms/step - loss: 1.8051 - accuracy: 0.3348\n"
     ]
    },
    {
     "data": {
      "text/plain": [
       "[1.8050748109817505, 0.33480000495910645]"
      ]
     },
     "execution_count": 33,
     "metadata": {},
     "output_type": "execute_result"
    }
   ],
   "source": [
    "model.evaluate(X_test, y_test)"
   ]
  },
  {
   "cell_type": "code",
   "execution_count": 38,
   "metadata": {},
   "outputs": [
    {
     "data": {
      "text/plain": [
       "{'loss': [3.5667781829833984,\n",
       "  1.9336211681365967,\n",
       "  1.8725244998931885,\n",
       "  1.8290033340454102,\n",
       "  1.8087682723999023,\n",
       "  1.790785789489746,\n",
       "  1.7597980499267578,\n",
       "  1.7426953315734863,\n",
       "  2.2148938179016113,\n",
       "  1.9786818027496338,\n",
       "  1.909177303314209,\n",
       "  1.873127818107605,\n",
       "  1.8494229316711426,\n",
       "  1.8362362384796143],\n",
       " 'accuracy': [0.22157777845859528,\n",
       "  0.29019999504089355,\n",
       "  0.3168666660785675,\n",
       "  0.3303777873516083,\n",
       "  0.3411555588245392,\n",
       "  0.3509555459022522,\n",
       "  0.36711111664772034,\n",
       "  0.37095555663108826,\n",
       "  0.20288889110088348,\n",
       "  0.243066668510437,\n",
       "  0.26919999718666077,\n",
       "  0.2927555441856384,\n",
       "  0.3027999997138977,\n",
       "  0.30837777256965637],\n",
       " 'val_loss': [2.161280632019043,\n",
       "  2.039180040359497,\n",
       "  1.8567308187484741,\n",
       "  1.8087873458862305,\n",
       "  1.8117440938949585,\n",
       "  2.020731210708618,\n",
       "  1.9970035552978516,\n",
       "  1.8536070585250854,\n",
       "  2.097980499267578,\n",
       "  1.9046504497528076,\n",
       "  1.9088480472564697,\n",
       "  1.9265791177749634,\n",
       "  1.9235188961029053,\n",
       "  1.8222101926803589],\n",
       " 'val_accuracy': [0.18719999492168427,\n",
       "  0.24879999458789825,\n",
       "  0.32260000705718994,\n",
       "  0.33880001306533813,\n",
       "  0.3416000008583069,\n",
       "  0.27720001339912415,\n",
       "  0.303600013256073,\n",
       "  0.33820000290870667,\n",
       "  0.1932000070810318,\n",
       "  0.2757999897003174,\n",
       "  0.26919999718666077,\n",
       "  0.28139999508857727,\n",
       "  0.2903999984264374,\n",
       "  0.3070000112056732]}"
      ]
     },
     "execution_count": 38,
     "metadata": {},
     "output_type": "execute_result"
    }
   ],
   "source": [
    "history.history"
   ]
  },
  {
   "cell_type": "code",
   "execution_count": 39,
   "metadata": {},
   "outputs": [],
   "source": [
    "import pandas as pd\n",
    "import matplotlib.pyplot as plt"
   ]
  },
  {
   "cell_type": "code",
   "execution_count": 41,
   "metadata": {},
   "outputs": [
    {
     "data": {
      "image/png": "[encoded data removed]",
      "text/plain": [
       "<Figure size 576x360 with 1 Axes>"
      ]
     },
     "metadata": {
      "needs_background": "light"
     },
     "output_type": "display_data"
    }
   ],
   "source": [
    "pd.DataFrame(history.history).plot(figsize=(8, 5))\n",
    "plt.grid(True)\n",
    "# plt.gca().set_ylim(0, 1)\n",
    "plt.show()"
   ]
  },
  {
   "cell_type": "code",
   "execution_count": 42,
   "metadata": {},
   "outputs": [],
   "source": [
    "# new model with batch normalization (with activation)\n",
    "bn_model = keras.models.Sequential()\n",
    "bn_model.add(keras.layers.Flatten(input_shape=[32, 32, 3]))\n",
    "bn_model.add(keras.layers.BatchNormalization())"
   ]
  },
  {
   "cell_type": "code",
   "execution_count": 43,
   "metadata": {},
   "outputs": [],
   "source": [
    "# setting bias to be False since batch normalization already includes an offset parameter per input\n",
    "for i in range(20):\n",
    "    bn_model.add(keras.layers.Dense(100, kernel_initializer='he_normal', use_bias=False))\n",
    "    bn_model.add(keras.layers.BatchNormalization())\n",
    "    bn_model.add(keras.layers.Activation('elu'))"
   ]
  },
  {
   "cell_type": "code",
   "execution_count": 44,
   "metadata": {},
   "outputs": [],
   "source": [
    "bn_model.add(keras.layers.Dense(10, activation='softmax'))"
   ]
  },
  {
   "cell_type": "code",
   "execution_count": 45,
   "metadata": {},
   "outputs": [],
   "source": [
    "checkpoint_cb = keras.callbacks.ModelCheckpoint('cifar_model_bn.h5', save_best_only=True)"
   ]
  },
  {
   "cell_type": "code",
   "execution_count": 46,
   "metadata": {},
   "outputs": [],
   "source": [
    "bn_model.compile(loss=keras.losses.SparseCategoricalCrossentropy(),\n",
    "                  optimizer=optimizer, \n",
    "                  metrics=['accuracy'])"
   ]
  },
  {
   "cell_type": "code",
   "execution_count": 56,
   "metadata": {},
   "outputs": [
    {
     "name": "stdout",
     "output_type": "stream",
     "text": [
      "Epoch 1/50\n",
      "1407/1407 [==============================] - 22s 14ms/step - loss: 1.7463 - accuracy: 0.3616 - val_loss: 1.7564 - val_accuracy: 0.3692\n",
      "Epoch 2/50\n",
      "1407/1407 [==============================] - 18s 12ms/step - loss: 1.6931 - accuracy: 0.3833 - val_loss: 1.7257 - val_accuracy: 0.3706\n",
      "Epoch 3/50\n",
      "1407/1407 [==============================] - 18s 13ms/step - loss: 1.6728 - accuracy: 0.3934 - val_loss: 1.6989 - val_accuracy: 0.3870\n",
      "Epoch 4/50\n",
      "1407/1407 [==============================] - 18s 13ms/step - loss: 1.6643 - accuracy: 0.3947 - val_loss: 1.6793 - val_accuracy: 0.3894\n",
      "Epoch 5/50\n",
      "1407/1407 [==============================] - 19s 14ms/step - loss: 1.6542 - accuracy: 0.4029 - val_loss: 1.6808 - val_accuracy: 0.3928\n",
      "Epoch 6/50\n",
      "1407/1407 [==============================] - 20s 14ms/step - loss: 3.3563 - accuracy: 0.3183 - val_loss: 1.8400 - val_accuracy: 0.3060\n",
      "Epoch 7/50\n",
      "1407/1407 [==============================] - 19s 13ms/step - loss: 1.7648 - accuracy: 0.3477 - val_loss: 1.7681 - val_accuracy: 0.3510\n",
      "Epoch 8/50\n",
      "1407/1407 [==============================] - 18s 13ms/step - loss: 1.7504 - accuracy: 0.3633 - val_loss: 1.9396 - val_accuracy: 0.2616\n",
      "Epoch 9/50\n",
      "1407/1407 [==============================] - 18s 13ms/step - loss: 1.8152 - accuracy: 0.3220 - val_loss: 1.8199 - val_accuracy: 0.3244\n",
      "Epoch 10/50\n",
      "1407/1407 [==============================] - 23s 16ms/step - loss: 1.7560 - accuracy: 0.3531 - val_loss: 1.7372 - val_accuracy: 0.3604\n",
      "Epoch 11/50\n",
      "1407/1407 [==============================] - 18s 13ms/step - loss: 1.7458 - accuracy: 0.3565 - val_loss: 1.7624 - val_accuracy: 0.3460\n",
      "Epoch 12/50\n",
      "1407/1407 [==============================] - 20s 14ms/step - loss: 1.7045 - accuracy: 0.3756 - val_loss: 1.6892 - val_accuracy: 0.3786\n",
      "Epoch 13/50\n",
      "1407/1407 [==============================] - 20s 14ms/step - loss: 1.7437 - accuracy: 0.3650 - val_loss: 1.7530 - val_accuracy: 0.3532\n",
      "Epoch 14/50\n",
      "1407/1407 [==============================] - 21s 15ms/step - loss: 1.7299 - accuracy: 0.3653 - val_loss: 1.7433 - val_accuracy: 0.3678\n"
     ]
    }
   ],
   "source": [
    "bn_history = bn_model.fit(X_train, y_train, epochs=50,\n",
    "                    validation_data=(X_valid, y_valid),\n",
    "                    callbacks=[early_stopping_cb, checkpoint_cb, tensorboard_cb])"
   ]
  },
  {
   "cell_type": "code",
   "execution_count": 57,
   "metadata": {},
   "outputs": [
    {
     "data": {
      "image/png": "[encoded data removed]",
      "text/plain": [
       "<Figure size 576x360 with 1 Axes>"
      ]
     },
     "metadata": {
      "needs_background": "light"
     },
     "output_type": "display_data"
    }
   ],
   "source": [
    "pd.DataFrame(bn_history.history).plot(figsize=(8, 5))\n",
    "plt.grid(True)\n",
    "# plt.gca().set_ylim(0, 1)\n",
    "plt.show()"
   ]
  },
  {
   "cell_type": "code",
   "execution_count": 58,
   "metadata": {},
   "outputs": [],
   "source": [
    "bn_model = keras.models.load_model(\"cifar_model_bn.h5\")"
   ]
  },
  {
   "cell_type": "code",
   "execution_count": 59,
   "metadata": {},
   "outputs": [
    {
     "name": "stdout",
     "output_type": "stream",
     "text": [
      "313/313 [==============================] - 1s 3ms/step - loss: 1.6698 - accuracy: 0.3854\n"
     ]
    },
    {
     "data": {
      "text/plain": [
       "[1.6698400974273682, 0.3853999972343445]"
      ]
     },
     "execution_count": 59,
     "metadata": {},
     "output_type": "execute_result"
    }
   ],
   "source": [
    "bn_model.evaluate(X_test, y_test)"
   ]
  },
  {
   "cell_type": "code",
   "execution_count": 60,
   "metadata": {},
   "outputs": [],
   "source": [
    "# replacing batch normalization with SELU\n",
    "selu_model = keras.models.Sequential()\n",
    "selu_model.add(keras.layers.Flatten(input_shape=[32, 32, 3]))"
   ]
  },
  {
   "cell_type": "code",
   "execution_count": 61,
   "metadata": {},
   "outputs": [],
   "source": [
    "for i in range(20):\n",
    "    selu_model.add(keras.layers.Dense(100, activation='selu', \n",
    "                                      kernel_initializer='lecun_normal'))"
   ]
  },
  {
   "cell_type": "code",
   "execution_count": 62,
   "metadata": {},
   "outputs": [],
   "source": [
    "selu_model.add(keras.layers.Dense(10, activation='softmax'))"
   ]
  },
  {
   "cell_type": "code",
   "execution_count": 66,
   "metadata": {},
   "outputs": [],
   "source": [
    "selu_model.compile(loss=keras.losses.SparseCategoricalCrossentropy(),\n",
    "                  optimizer=optimizer, \n",
    "                  metrics=['accuracy'])"
   ]
  },
  {
   "cell_type": "code",
   "execution_count": 67,
   "metadata": {},
   "outputs": [],
   "source": [
    "checkpoint_cb = keras.callbacks.ModelCheckpoint('cifar_model_selu.h5', save_best_only=True)"
   ]
  },
  {
   "cell_type": "code",
   "execution_count": 68,
   "metadata": {},
   "outputs": [
    {
     "name": "stdout",
     "output_type": "stream",
     "text": [
      "Epoch 1/50\n",
      "1407/1407 [==============================] - 20s 12ms/step - loss: 2.8203 - accuracy: 0.1753 - val_loss: 1.9528 - val_accuracy: 0.2638\n",
      "Epoch 2/50\n",
      "1407/1407 [==============================] - 16s 12ms/step - loss: 1.9804 - accuracy: 0.2448 - val_loss: 1.9487 - val_accuracy: 0.2664\n",
      "Epoch 3/50\n",
      "1407/1407 [==============================] - 19s 14ms/step - loss: 1.9642 - accuracy: 0.2517 - val_loss: 1.9641 - val_accuracy: 0.2606\n",
      "Epoch 4/50\n",
      "1407/1407 [==============================] - 23s 16ms/step - loss: 1.9639 - accuracy: 0.2526 - val_loss: 2.0171 - val_accuracy: 0.2392\n",
      "Epoch 5/50\n",
      "1407/1407 [==============================] - 15s 11ms/step - loss: 1.9556 - accuracy: 0.2556 - val_loss: 1.9690 - val_accuracy: 0.2504\n",
      "Epoch 6/50\n",
      "1407/1407 [==============================] - 19s 13ms/step - loss: 1.9812 - accuracy: 0.2380 - val_loss: 1.9670 - val_accuracy: 0.2538\n",
      "Epoch 7/50\n",
      "1407/1407 [==============================] - 17s 12ms/step - loss: 1.9387 - accuracy: 0.2605 - val_loss: 1.9533 - val_accuracy: 0.2524\n",
      "Epoch 8/50\n",
      "1407/1407 [==============================] - 18s 13ms/step - loss: 1.9387 - accuracy: 0.2605 - val_loss: 1.9623 - val_accuracy: 0.2516\n",
      "Epoch 9/50\n",
      "1407/1407 [==============================] - 18s 13ms/step - loss: 1.9542 - accuracy: 0.2503 - val_loss: 1.9187 - val_accuracy: 0.2718\n",
      "Epoch 10/50\n",
      "1407/1407 [==============================] - 15s 10ms/step - loss: 2.2980 - accuracy: 0.2520 - val_loss: 1.9070 - val_accuracy: 0.2740\n",
      "Epoch 11/50\n",
      "1407/1407 [==============================] - 14s 10ms/step - loss: 1.9189 - accuracy: 0.2662 - val_loss: 1.9331 - val_accuracy: 0.2714\n",
      "Epoch 12/50\n",
      "1407/1407 [==============================] - 14s 10ms/step - loss: 1.9059 - accuracy: 0.2723 - val_loss: 1.9011 - val_accuracy: 0.2680\n",
      "Epoch 13/50\n",
      "1407/1407 [==============================] - 20s 14ms/step - loss: 1.8970 - accuracy: 0.2704 - val_loss: 1.8802 - val_accuracy: 0.2942\n",
      "Epoch 14/50\n",
      "1407/1407 [==============================] - 20s 14ms/step - loss: 1.8827 - accuracy: 0.2840 - val_loss: 1.9254 - val_accuracy: 0.2650\n",
      "Epoch 15/50\n",
      "1407/1407 [==============================] - 18s 13ms/step - loss: 1.8928 - accuracy: 0.2822 - val_loss: 1.9094 - val_accuracy: 0.2756\n",
      "Epoch 16/50\n",
      "1407/1407 [==============================] - 24s 17ms/step - loss: 1.8844 - accuracy: 0.2792 - val_loss: 1.8708 - val_accuracy: 0.2884\n",
      "Epoch 17/50\n",
      "1407/1407 [==============================] - 16s 11ms/step - loss: 1.8803 - accuracy: 0.2820 - val_loss: 1.8738 - val_accuracy: 0.2876\n",
      "Epoch 18/50\n",
      " 596/1407 [===========>..................] - ETA: 11s - loss: 1.8780 - accuracy: 0.2807"
     ]
    },
    {
     "ename": "KeyboardInterrupt",
     "evalue": "",
     "output_type": "error",
     "traceback": [
      "\u001b[0;31m---------------------------------------------------------------------------\u001b[0m",
      "\u001b[0;31mKeyboardInterrupt\u001b[0m                         Traceback (most recent call last)",
      "\u001b[0;32m<ipython-input-68-7ae5b636eca1>\u001b[0m in \u001b[0;36m<module>\u001b[0;34m\u001b[0m\n\u001b[1;32m      1\u001b[0m selu_history = selu_model.fit(X_train, y_train, epochs=50,\n\u001b[1;32m      2\u001b[0m                     \u001b[0mvalidation_data\u001b[0m\u001b[0;34m=\u001b[0m\u001b[0;34m(\u001b[0m\u001b[0mX_valid\u001b[0m\u001b[0;34m,\u001b[0m \u001b[0my_valid\u001b[0m\u001b[0;34m)\u001b[0m\u001b[0;34m,\u001b[0m\u001b[0;34m\u001b[0m\u001b[0;34m\u001b[0m\u001b[0m\n\u001b[0;32m----> 3\u001b[0;31m                     callbacks=[early_stopping_cb, checkpoint_cb])\n\u001b[0m",
      "\u001b[0;32m~/handsonml/venv/lib/python3.7/site-packages/tensorflow/python/keras/engine/training.py\u001b[0m in \u001b[0;36mfit\u001b[0;34m(self, x, y, batch_size, epochs, verbose, callbacks, validation_split, validation_data, shuffle, class_weight, sample_weight, initial_epoch, steps_per_epoch, validation_steps, validation_batch_size, validation_freq, max_queue_size, workers, use_multiprocessing)\u001b[0m\n\u001b[1;32m   1098\u001b[0m                 _r=1):\n\u001b[1;32m   1099\u001b[0m               \u001b[0mcallbacks\u001b[0m\u001b[0;34m.\u001b[0m\u001b[0mon_train_batch_begin\u001b[0m\u001b[0;34m(\u001b[0m\u001b[0mstep\u001b[0m\u001b[0;34m)\u001b[0m\u001b[0;34m\u001b[0m\u001b[0;34m\u001b[0m\u001b[0m\n\u001b[0;32m-> 1100\u001b[0;31m               \u001b[0mtmp_logs\u001b[0m \u001b[0;34m=\u001b[0m \u001b[0mself\u001b[0m\u001b[0;34m.\u001b[0m\u001b[0mtrain_function\u001b[0m\u001b[0;34m(\u001b[0m\u001b[0miterator\u001b[0m\u001b[0;34m)\u001b[0m\u001b[0;34m\u001b[0m\u001b[0;34m\u001b[0m\u001b[0m\n\u001b[0m\u001b[1;32m   1101\u001b[0m               \u001b[0;32mif\u001b[0m \u001b[0mdata_handler\u001b[0m\u001b[0;34m.\u001b[0m\u001b[0mshould_sync\u001b[0m\u001b[0;34m:\u001b[0m\u001b[0;34m\u001b[0m\u001b[0;34m\u001b[0m\u001b[0m\n\u001b[1;32m   1102\u001b[0m                 \u001b[0mcontext\u001b[0m\u001b[0;34m.\u001b[0m\u001b[0masync_wait\u001b[0m\u001b[0;34m(\u001b[0m\u001b[0;34m)\u001b[0m\u001b[0;34m\u001b[0m\u001b[0;34m\u001b[0m\u001b[0m\n",
      "\u001b[0;32m~/handsonml/venv/lib/python3.7/site-packages/tensorflow/python/eager/def_function.py\u001b[0m in \u001b[0;36m__call__\u001b[0;34m(self, *args, **kwds)\u001b[0m\n\u001b[1;32m    826\u001b[0m     \u001b[0mtracing_count\u001b[0m \u001b[0;34m=\u001b[0m \u001b[0mself\u001b[0m\u001b[0;34m.\u001b[0m\u001b[0mexperimental_get_tracing_count\u001b[0m\u001b[0;34m(\u001b[0m\u001b[0;34m)\u001b[0m\u001b[0;34m\u001b[0m\u001b[0;34m\u001b[0m\u001b[0m\n\u001b[1;32m    827\u001b[0m     \u001b[0;32mwith\u001b[0m \u001b[0mtrace\u001b[0m\u001b[0;34m.\u001b[0m\u001b[0mTrace\u001b[0m\u001b[0;34m(\u001b[0m\u001b[0mself\u001b[0m\u001b[0;34m.\u001b[0m\u001b[0m_name\u001b[0m\u001b[0;34m)\u001b[0m \u001b[0;32mas\u001b[0m \u001b[0mtm\u001b[0m\u001b[0;34m:\u001b[0m\u001b[0;34m\u001b[0m\u001b[0;34m\u001b[0m\u001b[0m\n\u001b[0;32m--> 828\u001b[0;31m       \u001b[0mresult\u001b[0m \u001b[0;34m=\u001b[0m \u001b[0mself\u001b[0m\u001b[0;34m.\u001b[0m\u001b[0m_call\u001b[0m\u001b[0;34m(\u001b[0m\u001b[0;34m*\u001b[0m\u001b[0margs\u001b[0m\u001b[0;34m,\u001b[0m \u001b[0;34m**\u001b[0m\u001b[0mkwds\u001b[0m\u001b[0;34m)\u001b[0m\u001b[0;34m\u001b[0m\u001b[0;34m\u001b[0m\u001b[0m\n\u001b[0m\u001b[1;32m    829\u001b[0m       \u001b[0mcompiler\u001b[0m \u001b[0;34m=\u001b[0m \u001b[0;34m\"xla\"\u001b[0m \u001b[0;32mif\u001b[0m \u001b[0mself\u001b[0m\u001b[0;34m.\u001b[0m\u001b[0m_experimental_compile\u001b[0m \u001b[0;32melse\u001b[0m \u001b[0;34m\"nonXla\"\u001b[0m\u001b[0;34m\u001b[0m\u001b[0;34m\u001b[0m\u001b[0m\n\u001b[1;32m    830\u001b[0m       \u001b[0mnew_tracing_count\u001b[0m \u001b[0;34m=\u001b[0m \u001b[0mself\u001b[0m\u001b[0;34m.\u001b[0m\u001b[0mexperimental_get_tracing_count\u001b[0m\u001b[0;34m(\u001b[0m\u001b[0;34m)\u001b[0m\u001b[0;34m\u001b[0m\u001b[0;34m\u001b[0m\u001b[0m\n",
      "\u001b[0;32m~/handsonml/venv/lib/python3.7/site-packages/tensorflow/python/eager/def_function.py\u001b[0m in \u001b[0;36m_call\u001b[0;34m(self, *args, **kwds)\u001b[0m\n\u001b[1;32m    853\u001b[0m       \u001b[0;31m# In this case we have created variables on the first call, so we run the\u001b[0m\u001b[0;34m\u001b[0m\u001b[0;34m\u001b[0m\u001b[0;34m\u001b[0m\u001b[0m\n\u001b[1;32m    854\u001b[0m       \u001b[0;31m# defunned version which is guaranteed to never create variables.\u001b[0m\u001b[0;34m\u001b[0m\u001b[0;34m\u001b[0m\u001b[0;34m\u001b[0m\u001b[0m\n\u001b[0;32m--> 855\u001b[0;31m       \u001b[0;32mreturn\u001b[0m \u001b[0mself\u001b[0m\u001b[0;34m.\u001b[0m\u001b[0m_stateless_fn\u001b[0m\u001b[0;34m(\u001b[0m\u001b[0;34m*\u001b[0m\u001b[0margs\u001b[0m\u001b[0;34m,\u001b[0m \u001b[0;34m**\u001b[0m\u001b[0mkwds\u001b[0m\u001b[0;34m)\u001b[0m  \u001b[0;31m# pylint: disable=not-callable\u001b[0m\u001b[0;34m\u001b[0m\u001b[0;34m\u001b[0m\u001b[0m\n\u001b[0m\u001b[1;32m    856\u001b[0m     \u001b[0;32melif\u001b[0m \u001b[0mself\u001b[0m\u001b[0;34m.\u001b[0m\u001b[0m_stateful_fn\u001b[0m \u001b[0;32mis\u001b[0m \u001b[0;32mnot\u001b[0m \u001b[0;32mNone\u001b[0m\u001b[0;34m:\u001b[0m\u001b[0;34m\u001b[0m\u001b[0;34m\u001b[0m\u001b[0m\n\u001b[1;32m    857\u001b[0m       \u001b[0;31m# Release the lock early so that multiple threads can perform the call\u001b[0m\u001b[0;34m\u001b[0m\u001b[0;34m\u001b[0m\u001b[0;34m\u001b[0m\u001b[0m\n",
      "\u001b[0;32m~/handsonml/venv/lib/python3.7/site-packages/tensorflow/python/eager/function.py\u001b[0m in \u001b[0;36m__call__\u001b[0;34m(self, *args, **kwargs)\u001b[0m\n\u001b[1;32m   2941\u001b[0m        filtered_flat_args) = self._maybe_define_function(args, kwargs)\n\u001b[1;32m   2942\u001b[0m     return graph_function._call_flat(\n\u001b[0;32m-> 2943\u001b[0;31m         filtered_flat_args, captured_inputs=graph_function.captured_inputs)  # pylint: disable=protected-access\n\u001b[0m\u001b[1;32m   2944\u001b[0m \u001b[0;34m\u001b[0m\u001b[0m\n\u001b[1;32m   2945\u001b[0m   \u001b[0;34m@\u001b[0m\u001b[0mproperty\u001b[0m\u001b[0;34m\u001b[0m\u001b[0;34m\u001b[0m\u001b[0m\n",
      "\u001b[0;32m~/handsonml/venv/lib/python3.7/site-packages/tensorflow/python/eager/function.py\u001b[0m in \u001b[0;36m_call_flat\u001b[0;34m(self, args, captured_inputs, cancellation_manager)\u001b[0m\n\u001b[1;32m   1917\u001b[0m       \u001b[0;31m# No tape is watching; skip to running the function.\u001b[0m\u001b[0;34m\u001b[0m\u001b[0;34m\u001b[0m\u001b[0;34m\u001b[0m\u001b[0m\n\u001b[1;32m   1918\u001b[0m       return self._build_call_outputs(self._inference_function.call(\n\u001b[0;32m-> 1919\u001b[0;31m           ctx, args, cancellation_manager=cancellation_manager))\n\u001b[0m\u001b[1;32m   1920\u001b[0m     forward_backward = self._select_forward_and_backward_functions(\n\u001b[1;32m   1921\u001b[0m         \u001b[0margs\u001b[0m\u001b[0;34m,\u001b[0m\u001b[0;34m\u001b[0m\u001b[0;34m\u001b[0m\u001b[0m\n",
      "\u001b[0;32m~/handsonml/venv/lib/python3.7/site-packages/tensorflow/python/eager/function.py\u001b[0m in \u001b[0;36mcall\u001b[0;34m(self, ctx, args, cancellation_manager)\u001b[0m\n\u001b[1;32m    558\u001b[0m               \u001b[0minputs\u001b[0m\u001b[0;34m=\u001b[0m\u001b[0margs\u001b[0m\u001b[0;34m,\u001b[0m\u001b[0;34m\u001b[0m\u001b[0;34m\u001b[0m\u001b[0m\n\u001b[1;32m    559\u001b[0m               \u001b[0mattrs\u001b[0m\u001b[0;34m=\u001b[0m\u001b[0mattrs\u001b[0m\u001b[0;34m,\u001b[0m\u001b[0;34m\u001b[0m\u001b[0;34m\u001b[0m\u001b[0m\n\u001b[0;32m--> 560\u001b[0;31m               ctx=ctx)\n\u001b[0m\u001b[1;32m    561\u001b[0m         \u001b[0;32melse\u001b[0m\u001b[0;34m:\u001b[0m\u001b[0;34m\u001b[0m\u001b[0;34m\u001b[0m\u001b[0m\n\u001b[1;32m    562\u001b[0m           outputs = execute.execute_with_cancellation(\n",
      "\u001b[0;32m~/handsonml/venv/lib/python3.7/site-packages/tensorflow/python/eager/execute.py\u001b[0m in \u001b[0;36mquick_execute\u001b[0;34m(op_name, num_outputs, inputs, attrs, ctx, name)\u001b[0m\n\u001b[1;32m     58\u001b[0m     \u001b[0mctx\u001b[0m\u001b[0;34m.\u001b[0m\u001b[0mensure_initialized\u001b[0m\u001b[0;34m(\u001b[0m\u001b[0;34m)\u001b[0m\u001b[0;34m\u001b[0m\u001b[0;34m\u001b[0m\u001b[0m\n\u001b[1;32m     59\u001b[0m     tensors = pywrap_tfe.TFE_Py_Execute(ctx._handle, device_name, op_name,\n\u001b[0;32m---> 60\u001b[0;31m                                         inputs, attrs, num_outputs)\n\u001b[0m\u001b[1;32m     61\u001b[0m   \u001b[0;32mexcept\u001b[0m \u001b[0mcore\u001b[0m\u001b[0;34m.\u001b[0m\u001b[0m_NotOkStatusException\u001b[0m \u001b[0;32mas\u001b[0m \u001b[0me\u001b[0m\u001b[0;34m:\u001b[0m\u001b[0;34m\u001b[0m\u001b[0;34m\u001b[0m\u001b[0m\n\u001b[1;32m     62\u001b[0m     \u001b[0;32mif\u001b[0m \u001b[0mname\u001b[0m \u001b[0;32mis\u001b[0m \u001b[0;32mnot\u001b[0m \u001b[0;32mNone\u001b[0m\u001b[0;34m:\u001b[0m\u001b[0;34m\u001b[0m\u001b[0;34m\u001b[0m\u001b[0m\n",
      "\u001b[0;31mKeyboardInterrupt\u001b[0m: "
     ]
    }
   ],
   "source": [
    "selu_history = selu_model.fit(X_train, y_train, epochs=50,\n",
    "                    validation_data=(X_valid, y_valid),\n",
    "                    callbacks=[early_stopping_cb, checkpoint_cb])"
   ]
  },
  {
   "cell_type": "code",
   "execution_count": 69,
   "metadata": {},
   "outputs": [],
   "source": [
    "# you're an idiot Kalyani. you forgot scaling and standardizing your training, validation and test sets. also,\n",
    "# why the heck are you using the evaluate method on the test set again and again. you'r an idiot.\n",
    "# this is not allowed -> multiple testing error"
   ]
  },
  {
   "cell_type": "code",
   "execution_count": null,
   "metadata": {},
   "outputs": [],
   "source": []
  }
 ],
 "metadata": {
  "kernelspec": {
   "display_name": "venv",
   "language": "python",
   "name": "venv"
  },
  "language_info": {
   "codemirror_mode": {
    "name": "ipython",
    "version": 3
   },
   "file_extension": ".py",
   "mimetype": "text/x-python",
   "name": "python",
   "nbconvert_exporter": "python",
   "pygments_lexer": "ipython3",
   "version": "3.7.6"
  }
 },
 "nbformat": 4,
 "nbformat_minor": 4
}
