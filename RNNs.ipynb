{
  "nbformat": 4,
  "nbformat_minor": 0,
  "metadata": {
    "colab": {
      "name": "RNNs.ipynb",
      "provenance": [],
      "authorship_tag": "ABX9TyOcOkGDRvG0FWd9INefLTb7",
      "include_colab_link": true
    },
    "kernelspec": {
      "name": "python3",
      "display_name": "Python 3"
    }
  },
  "cells": [
    {
      "cell_type": "markdown",
      "metadata": {
        "id": "view-in-github",
        "colab_type": "text"
      },
      "source": [
        "<a href=\"https://colab.research.google.com/github/kalyaniasthana/handsonml_exercises/blob/master/RNNs.ipynb\" target=\"_parent\"><img src=\"https://colab.research.google.com/assets/colab-badge.svg\" alt=\"Open In Colab\"/></a>"
      ]
    },
    {
      "cell_type": "code",
      "metadata": {
        "id": "1Lz6HIUSh3TW"
      },
      "source": [
        "import numpy as np\n",
        "\n",
        "def generate_time_series(batch_size, n_steps):\n",
        "  freq1, freq2, offsets1, offsets2 = np.random.rand(4, batch_size, 1)\n",
        "  time = np.linspace(0, 1, n_steps)\n",
        "  series = 0.5 *  np.sin((time - offsets1) * (freq1 * 10 + 10))\n",
        "  series += 0.2 * np.sin((time - offsets2) * (freq2 * 20 + 20))\n",
        "  series += 0.1 * (np.random.rand(batch_size, n_steps) - 0.5)\n",
        "  return series[..., np.newaxis].astype(np.float32)  "
      ],
      "execution_count": 30,
      "outputs": []
    },
    {
      "cell_type": "code",
      "metadata": {
        "id": "C6TQZh3Pm2Jh"
      },
      "source": [
        "n_steps = 50\n",
        "series = generate_time_series(10000, n_steps + 1)\n",
        "X_train, y_train = series[:7000, :n_steps], series[:7000, -1]\n",
        "X_valid, y_valid = series[7000:9000, :n_steps], series[7000:9000, -1]\n",
        "X_test, y_test = series[9000:, :n_steps], series[9000:, -1]"
      ],
      "execution_count": 31,
      "outputs": []
    },
    {
      "cell_type": "code",
      "metadata": {
        "colab": {
          "base_uri": "https://localhost:8080/"
        },
        "id": "aKS8CvQ0nUOA",
        "outputId": "f622f804-5e62-4502-facd-6bb77f0e28d0"
      },
      "source": [
        "import tensorflow as tf\n",
        "from tensorflow import keras\n",
        "\n",
        "y_pred = X_valid[:, -1]\n",
        "np.mean(keras.losses.mean_squared_error(y_valid, y_pred))"
      ],
      "execution_count": 32,
      "outputs": [
        {
          "output_type": "execute_result",
          "data": {
            "text/plain": [
              "0.020493312"
            ]
          },
          "metadata": {
            "tags": []
          },
          "execution_count": 32
        }
      ]
    },
    {
      "cell_type": "code",
      "metadata": {
        "id": "M04tyZFhntDy"
      },
      "source": [
        "model1 = keras.models.Sequential([\n",
        "    keras.layers.Flatten(input_shape=[50, 1]),\n",
        "    keras.layers.Dense(1)                        \n",
        "])"
      ],
      "execution_count": 33,
      "outputs": []
    },
    {
      "cell_type": "code",
      "metadata": {
        "id": "nfu59djfplMF"
      },
      "source": [
        "model1.compile(optimizer=keras.optimizers.SGD(learning_rate=0.01),\n",
        "               loss=keras.losses.MeanSquaredError(), \n",
        "               metrics=keras.metrics.MeanSquaredError())"
      ],
      "execution_count": 34,
      "outputs": []
    },
    {
      "cell_type": "code",
      "metadata": {
        "colab": {
          "base_uri": "https://localhost:8080/"
        },
        "id": "MlzhatCtp8wk",
        "outputId": "a8a14c53-59a5-4e35-f824-30996f332e1f"
      },
      "source": [
        "history1 = model1.fit(X_train, y_train, epochs=10, \n",
        "                      validation_data=(X_valid, y_valid))"
      ],
      "execution_count": 35,
      "outputs": [
        {
          "output_type": "stream",
          "text": [
            "Epoch 1/10\n",
            "219/219 [==============================] - 1s 2ms/step - loss: 0.2407 - mean_squared_error: 0.2407 - val_loss: 0.0368 - val_mean_squared_error: 0.0368\n",
            "Epoch 2/10\n",
            "219/219 [==============================] - 0s 1ms/step - loss: 0.0311 - mean_squared_error: 0.0311 - val_loss: 0.0195 - val_mean_squared_error: 0.0195\n",
            "Epoch 3/10\n",
            "219/219 [==============================] - 0s 1ms/step - loss: 0.0185 - mean_squared_error: 0.0185 - val_loss: 0.0141 - val_mean_squared_error: 0.0141\n",
            "Epoch 4/10\n",
            "219/219 [==============================] - 0s 1ms/step - loss: 0.0138 - mean_squared_error: 0.0138 - val_loss: 0.0117 - val_mean_squared_error: 0.0117\n",
            "Epoch 5/10\n",
            "219/219 [==============================] - 0s 1ms/step - loss: 0.0118 - mean_squared_error: 0.0118 - val_loss: 0.0102 - val_mean_squared_error: 0.0102\n",
            "Epoch 6/10\n",
            "219/219 [==============================] - 0s 1ms/step - loss: 0.0109 - mean_squared_error: 0.0109 - val_loss: 0.0092 - val_mean_squared_error: 0.0092\n",
            "Epoch 7/10\n",
            "219/219 [==============================] - 0s 1ms/step - loss: 0.0095 - mean_squared_error: 0.0095 - val_loss: 0.0085 - val_mean_squared_error: 0.0085\n",
            "Epoch 8/10\n",
            "219/219 [==============================] - 0s 1ms/step - loss: 0.0090 - mean_squared_error: 0.0090 - val_loss: 0.0080 - val_mean_squared_error: 0.0080\n",
            "Epoch 9/10\n",
            "219/219 [==============================] - 0s 1ms/step - loss: 0.0084 - mean_squared_error: 0.0084 - val_loss: 0.0076 - val_mean_squared_error: 0.0076\n",
            "Epoch 10/10\n",
            "219/219 [==============================] - 0s 1ms/step - loss: 0.0081 - mean_squared_error: 0.0081 - val_loss: 0.0072 - val_mean_squared_error: 0.0072\n"
          ],
          "name": "stdout"
        }
      ]
    },
    {
      "cell_type": "code",
      "metadata": {
        "colab": {
          "base_uri": "https://localhost:8080/"
        },
        "id": "y1CYMuV7qMDF",
        "outputId": "97d04870-c31a-42c4-9b66-bb43b7063763"
      },
      "source": [
        "model1.evaluate(X_valid, y_valid)"
      ],
      "execution_count": 36,
      "outputs": [
        {
          "output_type": "stream",
          "text": [
            "63/63 [==============================] - 0s 940us/step - loss: 0.0072 - mean_squared_error: 0.0072\n"
          ],
          "name": "stdout"
        },
        {
          "output_type": "execute_result",
          "data": {
            "text/plain": [
              "[0.007204264868050814, 0.007204264868050814]"
            ]
          },
          "metadata": {
            "tags": []
          },
          "execution_count": 36
        }
      ]
    },
    {
      "cell_type": "code",
      "metadata": {
        "id": "7jwlMtQYqbbt"
      },
      "source": [
        "model2 = keras.models.Sequential([\n",
        "    keras.layers.SimpleRNN(1, input_shape=[None, 1])\n",
        "])"
      ],
      "execution_count": 37,
      "outputs": []
    },
    {
      "cell_type": "code",
      "metadata": {
        "id": "es4dvjHDqluK"
      },
      "source": [
        "model2.compile(optimizer=keras.optimizers.Adam(),\n",
        "               loss=keras.losses.MeanSquaredError(), \n",
        "               metrics=keras.metrics.MeanSquaredError())"
      ],
      "execution_count": 38,
      "outputs": []
    },
    {
      "cell_type": "code",
      "metadata": {
        "colab": {
          "base_uri": "https://localhost:8080/"
        },
        "id": "HBb6cAtGqnyc",
        "outputId": "ed5c74a4-b4b7-447c-f5cc-3eff5506c7ce"
      },
      "source": [
        "history2 = model2.fit(X_train, y_train, epochs=20, \n",
        "                      validation_data=(X_valid, y_valid))"
      ],
      "execution_count": 39,
      "outputs": [
        {
          "output_type": "stream",
          "text": [
            "Epoch 1/20\n",
            "219/219 [==============================] - 3s 8ms/step - loss: 0.4087 - mean_squared_error: 0.4087 - val_loss: 0.3550 - val_mean_squared_error: 0.3550\n",
            "Epoch 2/20\n",
            "219/219 [==============================] - 2s 7ms/step - loss: 0.3575 - mean_squared_error: 0.3575 - val_loss: 0.3111 - val_mean_squared_error: 0.3111\n",
            "Epoch 3/20\n",
            "219/219 [==============================] - 2s 7ms/step - loss: 0.3062 - mean_squared_error: 0.3062 - val_loss: 0.2695 - val_mean_squared_error: 0.2695\n",
            "Epoch 4/20\n",
            "219/219 [==============================] - 2s 7ms/step - loss: 0.2681 - mean_squared_error: 0.2681 - val_loss: 0.2306 - val_mean_squared_error: 0.2306\n",
            "Epoch 5/20\n",
            "219/219 [==============================] - 1s 7ms/step - loss: 0.2339 - mean_squared_error: 0.2339 - val_loss: 0.1966 - val_mean_squared_error: 0.1966\n",
            "Epoch 6/20\n",
            "219/219 [==============================] - 2s 7ms/step - loss: 0.1959 - mean_squared_error: 0.1959 - val_loss: 0.1680 - val_mean_squared_error: 0.1680\n",
            "Epoch 7/20\n",
            "219/219 [==============================] - 2s 7ms/step - loss: 0.1668 - mean_squared_error: 0.1668 - val_loss: 0.1452 - val_mean_squared_error: 0.1452\n",
            "Epoch 8/20\n",
            "219/219 [==============================] - 2s 7ms/step - loss: 0.1462 - mean_squared_error: 0.1462 - val_loss: 0.1272 - val_mean_squared_error: 0.1272\n",
            "Epoch 9/20\n",
            "219/219 [==============================] - 2s 7ms/step - loss: 0.1231 - mean_squared_error: 0.1231 - val_loss: 0.1123 - val_mean_squared_error: 0.1123\n",
            "Epoch 10/20\n",
            "219/219 [==============================] - 2s 7ms/step - loss: 0.1127 - mean_squared_error: 0.1127 - val_loss: 0.0952 - val_mean_squared_error: 0.0952\n",
            "Epoch 11/20\n",
            "219/219 [==============================] - 2s 7ms/step - loss: 0.0934 - mean_squared_error: 0.0934 - val_loss: 0.0757 - val_mean_squared_error: 0.0757\n",
            "Epoch 12/20\n",
            "219/219 [==============================] - 2s 7ms/step - loss: 0.0747 - mean_squared_error: 0.0747 - val_loss: 0.0605 - val_mean_squared_error: 0.0605\n",
            "Epoch 13/20\n",
            "219/219 [==============================] - 2s 7ms/step - loss: 0.0581 - mean_squared_error: 0.0581 - val_loss: 0.0481 - val_mean_squared_error: 0.0481\n",
            "Epoch 14/20\n",
            "219/219 [==============================] - 2s 7ms/step - loss: 0.0464 - mean_squared_error: 0.0464 - val_loss: 0.0379 - val_mean_squared_error: 0.0379\n",
            "Epoch 15/20\n",
            "219/219 [==============================] - 2s 7ms/step - loss: 0.0366 - mean_squared_error: 0.0366 - val_loss: 0.0297 - val_mean_squared_error: 0.0297\n",
            "Epoch 16/20\n",
            "219/219 [==============================] - 2s 7ms/step - loss: 0.0280 - mean_squared_error: 0.0280 - val_loss: 0.0234 - val_mean_squared_error: 0.0234\n",
            "Epoch 17/20\n",
            "219/219 [==============================] - 2s 7ms/step - loss: 0.0227 - mean_squared_error: 0.0227 - val_loss: 0.0188 - val_mean_squared_error: 0.0188\n",
            "Epoch 18/20\n",
            "219/219 [==============================] - 2s 7ms/step - loss: 0.0180 - mean_squared_error: 0.0180 - val_loss: 0.0156 - val_mean_squared_error: 0.0156\n",
            "Epoch 19/20\n",
            "219/219 [==============================] - 2s 7ms/step - loss: 0.0152 - mean_squared_error: 0.0152 - val_loss: 0.0136 - val_mean_squared_error: 0.0136\n",
            "Epoch 20/20\n",
            "219/219 [==============================] - 2s 7ms/step - loss: 0.0134 - mean_squared_error: 0.0134 - val_loss: 0.0124 - val_mean_squared_error: 0.0124\n"
          ],
          "name": "stdout"
        }
      ]
    },
    {
      "cell_type": "code",
      "metadata": {
        "colab": {
          "base_uri": "https://localhost:8080/"
        },
        "id": "F-_P7lojqzjh",
        "outputId": "0a3572b4-a129-41eb-b252-e46ea4944dc1"
      },
      "source": [
        "model2.evaluate(X_valid, y_valid)"
      ],
      "execution_count": 40,
      "outputs": [
        {
          "output_type": "stream",
          "text": [
            "63/63 [==============================] - 0s 2ms/step - loss: 0.0124 - mean_squared_error: 0.0124\n"
          ],
          "name": "stdout"
        },
        {
          "output_type": "execute_result",
          "data": {
            "text/plain": [
              "[0.012368389405310154, 0.012368389405310154]"
            ]
          },
          "metadata": {
            "tags": []
          },
          "execution_count": 40
        }
      ]
    },
    {
      "cell_type": "code",
      "metadata": {
        "id": "igueI5dBsibb"
      },
      "source": [
        "model3 = keras.models.Sequential([\n",
        "    keras.layers.SimpleRNN(20, return_sequences=True, input_shape=[None, 1]),\n",
        "    keras.layers.SimpleRNN(20, return_sequences=True),\n",
        "    keras.layers.SimpleRNN(1)\n",
        "])"
      ],
      "execution_count": 41,
      "outputs": []
    },
    {
      "cell_type": "code",
      "metadata": {
        "id": "m15Nc311t4AP"
      },
      "source": [
        "model3.compile(optimizer=keras.optimizers.Adam(),\n",
        "               loss=keras.losses.MeanSquaredError(), \n",
        "               metrics=keras.metrics.MeanSquaredError())"
      ],
      "execution_count": 42,
      "outputs": []
    },
    {
      "cell_type": "code",
      "metadata": {
        "colab": {
          "base_uri": "https://localhost:8080/"
        },
        "id": "LK5RW8cgt9QY",
        "outputId": "b8c1c310-45ee-4fdc-f66f-862b22c71788"
      },
      "source": [
        "history3 = model3.fit(X_train, y_train, epochs=20, \n",
        "                      validation_data=(X_valid, y_valid))"
      ],
      "execution_count": 43,
      "outputs": [
        {
          "output_type": "stream",
          "text": [
            "Epoch 1/20\n",
            "219/219 [==============================] - 7s 26ms/step - loss: 0.0360 - mean_squared_error: 0.0360 - val_loss: 0.0047 - val_mean_squared_error: 0.0047\n",
            "Epoch 2/20\n",
            "219/219 [==============================] - 5s 24ms/step - loss: 0.0044 - mean_squared_error: 0.0044 - val_loss: 0.0034 - val_mean_squared_error: 0.0034\n",
            "Epoch 3/20\n",
            "219/219 [==============================] - 5s 24ms/step - loss: 0.0034 - mean_squared_error: 0.0034 - val_loss: 0.0032 - val_mean_squared_error: 0.0032\n",
            "Epoch 4/20\n",
            "219/219 [==============================] - 5s 24ms/step - loss: 0.0032 - mean_squared_error: 0.0032 - val_loss: 0.0029 - val_mean_squared_error: 0.0029\n",
            "Epoch 5/20\n",
            "219/219 [==============================] - 5s 24ms/step - loss: 0.0031 - mean_squared_error: 0.0031 - val_loss: 0.0032 - val_mean_squared_error: 0.0032\n",
            "Epoch 6/20\n",
            "219/219 [==============================] - 5s 24ms/step - loss: 0.0031 - mean_squared_error: 0.0031 - val_loss: 0.0029 - val_mean_squared_error: 0.0029\n",
            "Epoch 7/20\n",
            "219/219 [==============================] - 5s 24ms/step - loss: 0.0030 - mean_squared_error: 0.0030 - val_loss: 0.0029 - val_mean_squared_error: 0.0029\n",
            "Epoch 8/20\n",
            "219/219 [==============================] - 5s 24ms/step - loss: 0.0030 - mean_squared_error: 0.0030 - val_loss: 0.0032 - val_mean_squared_error: 0.0032\n",
            "Epoch 9/20\n",
            "219/219 [==============================] - 5s 24ms/step - loss: 0.0030 - mean_squared_error: 0.0030 - val_loss: 0.0029 - val_mean_squared_error: 0.0029\n",
            "Epoch 10/20\n",
            "219/219 [==============================] - 5s 24ms/step - loss: 0.0030 - mean_squared_error: 0.0030 - val_loss: 0.0029 - val_mean_squared_error: 0.0029\n",
            "Epoch 11/20\n",
            "219/219 [==============================] - 5s 24ms/step - loss: 0.0031 - mean_squared_error: 0.0031 - val_loss: 0.0029 - val_mean_squared_error: 0.0029\n",
            "Epoch 12/20\n",
            "219/219 [==============================] - 5s 24ms/step - loss: 0.0029 - mean_squared_error: 0.0029 - val_loss: 0.0031 - val_mean_squared_error: 0.0031\n",
            "Epoch 13/20\n",
            "219/219 [==============================] - 5s 24ms/step - loss: 0.0029 - mean_squared_error: 0.0029 - val_loss: 0.0029 - val_mean_squared_error: 0.0029\n",
            "Epoch 14/20\n",
            "219/219 [==============================] - 5s 24ms/step - loss: 0.0029 - mean_squared_error: 0.0029 - val_loss: 0.0029 - val_mean_squared_error: 0.0029\n",
            "Epoch 15/20\n",
            "219/219 [==============================] - 5s 24ms/step - loss: 0.0029 - mean_squared_error: 0.0029 - val_loss: 0.0031 - val_mean_squared_error: 0.0031\n",
            "Epoch 16/20\n",
            "219/219 [==============================] - 5s 24ms/step - loss: 0.0029 - mean_squared_error: 0.0029 - val_loss: 0.0032 - val_mean_squared_error: 0.0032\n",
            "Epoch 17/20\n",
            "219/219 [==============================] - 5s 24ms/step - loss: 0.0028 - mean_squared_error: 0.0028 - val_loss: 0.0030 - val_mean_squared_error: 0.0030\n",
            "Epoch 18/20\n",
            "219/219 [==============================] - 5s 23ms/step - loss: 0.0028 - mean_squared_error: 0.0028 - val_loss: 0.0030 - val_mean_squared_error: 0.0030\n",
            "Epoch 19/20\n",
            "219/219 [==============================] - 5s 24ms/step - loss: 0.0028 - mean_squared_error: 0.0028 - val_loss: 0.0028 - val_mean_squared_error: 0.0028\n",
            "Epoch 20/20\n",
            "219/219 [==============================] - 5s 24ms/step - loss: 0.0028 - mean_squared_error: 0.0028 - val_loss: 0.0027 - val_mean_squared_error: 0.0027\n"
          ],
          "name": "stdout"
        }
      ]
    },
    {
      "cell_type": "code",
      "metadata": {
        "colab": {
          "base_uri": "https://localhost:8080/"
        },
        "id": "6PwK0izfuLlQ",
        "outputId": "dc352905-6508-4529-9a00-e40ad394d9b8"
      },
      "source": [
        "model3.evaluate(X_valid, y_valid)"
      ],
      "execution_count": 44,
      "outputs": [
        {
          "output_type": "stream",
          "text": [
            "63/63 [==============================] - 0s 6ms/step - loss: 0.0027 - mean_squared_error: 0.0027\n"
          ],
          "name": "stdout"
        },
        {
          "output_type": "execute_result",
          "data": {
            "text/plain": [
              "[0.002665438689291477, 0.002665438689291477]"
            ]
          },
          "metadata": {
            "tags": []
          },
          "execution_count": 44
        }
      ]
    },
    {
      "cell_type": "code",
      "metadata": {
        "id": "XPLXNYtauquW"
      },
      "source": [
        "model4 = keras.models.Sequential([\n",
        "    keras.layers.SimpleRNN(20, return_sequences=True, input_shape=[None, 1]),\n",
        "    keras.layers.SimpleRNN(20),\n",
        "    keras.layers.Dense(1)\n",
        "])"
      ],
      "execution_count": 45,
      "outputs": []
    },
    {
      "cell_type": "code",
      "metadata": {
        "id": "K_uLF8_Xu7ab"
      },
      "source": [
        "model4.compile(optimizer=keras.optimizers.Adam(),\n",
        "               loss=keras.losses.MeanSquaredError(), \n",
        "               metrics=keras.metrics.MeanSquaredError())"
      ],
      "execution_count": 46,
      "outputs": []
    },
    {
      "cell_type": "code",
      "metadata": {
        "colab": {
          "base_uri": "https://localhost:8080/"
        },
        "id": "Rag4HObyu9se",
        "outputId": "4848d10e-41c0-4298-9f74-cf8596e53874"
      },
      "source": [
        "history4 = model4.fit(X_train, y_train, epochs=20, \n",
        "                      validation_data=(X_valid, y_valid))"
      ],
      "execution_count": 47,
      "outputs": [
        {
          "output_type": "stream",
          "text": [
            "Epoch 1/20\n",
            "219/219 [==============================] - 5s 18ms/step - loss: 0.0672 - mean_squared_error: 0.0672 - val_loss: 0.0057 - val_mean_squared_error: 0.0057\n",
            "Epoch 2/20\n",
            "219/219 [==============================] - 4s 17ms/step - loss: 0.0051 - mean_squared_error: 0.0051 - val_loss: 0.0039 - val_mean_squared_error: 0.0039\n",
            "Epoch 3/20\n",
            "219/219 [==============================] - 4s 17ms/step - loss: 0.0038 - mean_squared_error: 0.0038 - val_loss: 0.0031 - val_mean_squared_error: 0.0031\n",
            "Epoch 4/20\n",
            "219/219 [==============================] - 4s 17ms/step - loss: 0.0031 - mean_squared_error: 0.0031 - val_loss: 0.0028 - val_mean_squared_error: 0.0028\n",
            "Epoch 5/20\n",
            "219/219 [==============================] - 4s 17ms/step - loss: 0.0029 - mean_squared_error: 0.0029 - val_loss: 0.0028 - val_mean_squared_error: 0.0028\n",
            "Epoch 6/20\n",
            "219/219 [==============================] - 4s 16ms/step - loss: 0.0028 - mean_squared_error: 0.0028 - val_loss: 0.0026 - val_mean_squared_error: 0.0026\n",
            "Epoch 7/20\n",
            "219/219 [==============================] - 4s 17ms/step - loss: 0.0027 - mean_squared_error: 0.0027 - val_loss: 0.0026 - val_mean_squared_error: 0.0026\n",
            "Epoch 8/20\n",
            "219/219 [==============================] - 4s 17ms/step - loss: 0.0027 - mean_squared_error: 0.0027 - val_loss: 0.0027 - val_mean_squared_error: 0.0027\n",
            "Epoch 9/20\n",
            "219/219 [==============================] - 4s 17ms/step - loss: 0.0027 - mean_squared_error: 0.0027 - val_loss: 0.0027 - val_mean_squared_error: 0.0027\n",
            "Epoch 10/20\n",
            "219/219 [==============================] - 4s 16ms/step - loss: 0.0026 - mean_squared_error: 0.0026 - val_loss: 0.0025 - val_mean_squared_error: 0.0025\n",
            "Epoch 11/20\n",
            "219/219 [==============================] - 4s 16ms/step - loss: 0.0027 - mean_squared_error: 0.0027 - val_loss: 0.0029 - val_mean_squared_error: 0.0029\n",
            "Epoch 12/20\n",
            "219/219 [==============================] - 4s 17ms/step - loss: 0.0027 - mean_squared_error: 0.0027 - val_loss: 0.0025 - val_mean_squared_error: 0.0025\n",
            "Epoch 13/20\n",
            "219/219 [==============================] - 4s 17ms/step - loss: 0.0026 - mean_squared_error: 0.0026 - val_loss: 0.0026 - val_mean_squared_error: 0.0026\n",
            "Epoch 14/20\n",
            "219/219 [==============================] - 4s 17ms/step - loss: 0.0026 - mean_squared_error: 0.0026 - val_loss: 0.0026 - val_mean_squared_error: 0.0026\n",
            "Epoch 15/20\n",
            "219/219 [==============================] - 4s 17ms/step - loss: 0.0027 - mean_squared_error: 0.0027 - val_loss: 0.0025 - val_mean_squared_error: 0.0025\n",
            "Epoch 16/20\n",
            "219/219 [==============================] - 4s 17ms/step - loss: 0.0025 - mean_squared_error: 0.0025 - val_loss: 0.0028 - val_mean_squared_error: 0.0028\n",
            "Epoch 17/20\n",
            "219/219 [==============================] - 4s 17ms/step - loss: 0.0026 - mean_squared_error: 0.0026 - val_loss: 0.0025 - val_mean_squared_error: 0.0025\n",
            "Epoch 18/20\n",
            "219/219 [==============================] - 4s 17ms/step - loss: 0.0026 - mean_squared_error: 0.0026 - val_loss: 0.0024 - val_mean_squared_error: 0.0024\n",
            "Epoch 19/20\n",
            "219/219 [==============================] - 4s 17ms/step - loss: 0.0026 - mean_squared_error: 0.0026 - val_loss: 0.0026 - val_mean_squared_error: 0.0026\n",
            "Epoch 20/20\n",
            "219/219 [==============================] - 4s 17ms/step - loss: 0.0025 - mean_squared_error: 0.0025 - val_loss: 0.0026 - val_mean_squared_error: 0.0026\n"
          ],
          "name": "stdout"
        }
      ]
    },
    {
      "cell_type": "code",
      "metadata": {
        "colab": {
          "base_uri": "https://localhost:8080/"
        },
        "id": "UTltSG49vCag",
        "outputId": "3a7e57ef-c798-4c41-88a3-9d1039dd723e"
      },
      "source": [
        "model4.evaluate(X_valid, y_valid)"
      ],
      "execution_count": 48,
      "outputs": [
        {
          "output_type": "stream",
          "text": [
            "63/63 [==============================] - 0s 5ms/step - loss: 0.0026 - mean_squared_error: 0.0026\n"
          ],
          "name": "stdout"
        },
        {
          "output_type": "execute_result",
          "data": {
            "text/plain": [
              "[0.0026283941697329283, 0.0026283941697329283]"
            ]
          },
          "metadata": {
            "tags": []
          },
          "execution_count": 48
        }
      ]
    },
    {
      "cell_type": "code",
      "metadata": {
        "colab": {
          "base_uri": "https://localhost:8080/"
        },
        "id": "OSfQBskbvZN0",
        "outputId": "ecd9f88e-7234-425d-9df8-8bd578b2f334"
      },
      "source": [
        "series = generate_time_series(1, n_steps + 10)\n",
        "X_new, Y_new = series[:, :n_steps], series[:, n_steps:]\n",
        "X = X_new\n",
        "print(X.shape, 'X.shape')\n",
        "for step_ahead in range(10):\n",
        "  y_pred_one = model4.predict(X[:, step_ahead: ])[:, np.newaxis, :]\n",
        "  print(y_pred_one.shape, 'y_pred_one.shape!')\n",
        "  X = np.concatenate([X, y_pred_one], axis=1)\n",
        "  print(X.shape, 'X.shape!')\n",
        "Y_pred = X[:, n_steps]"
      ],
      "execution_count": 49,
      "outputs": [
        {
          "output_type": "stream",
          "text": [
            "(1, 50, 1) X.shape\n",
            "(1, 1, 1) y_pred_one.shape!\n",
            "(1, 51, 1) X.shape!\n",
            "(1, 1, 1) y_pred_one.shape!\n",
            "(1, 52, 1) X.shape!\n",
            "(1, 1, 1) y_pred_one.shape!\n",
            "(1, 53, 1) X.shape!\n",
            "(1, 1, 1) y_pred_one.shape!\n",
            "(1, 54, 1) X.shape!\n",
            "(1, 1, 1) y_pred_one.shape!\n",
            "(1, 55, 1) X.shape!\n",
            "(1, 1, 1) y_pred_one.shape!\n",
            "(1, 56, 1) X.shape!\n",
            "(1, 1, 1) y_pred_one.shape!\n",
            "(1, 57, 1) X.shape!\n",
            "(1, 1, 1) y_pred_one.shape!\n",
            "(1, 58, 1) X.shape!\n",
            "(1, 1, 1) y_pred_one.shape!\n",
            "(1, 59, 1) X.shape!\n",
            "(1, 1, 1) y_pred_one.shape!\n",
            "(1, 60, 1) X.shape!\n"
          ],
          "name": "stdout"
        }
      ]
    },
    {
      "cell_type": "code",
      "metadata": {
        "colab": {
          "base_uri": "https://localhost:8080/"
        },
        "id": "JOus8AtEv7NR",
        "outputId": "79bfba94-3375-427b-bf77-bebd6f9cfc3c"
      },
      "source": [
        "Y_pred"
      ],
      "execution_count": 50,
      "outputs": [
        {
          "output_type": "execute_result",
          "data": {
            "text/plain": [
              "array([[-0.63413465]], dtype=float32)"
            ]
          },
          "metadata": {
            "tags": []
          },
          "execution_count": 50
        }
      ]
    },
    {
      "cell_type": "code",
      "metadata": {
        "id": "xul4wPvNv9xL"
      },
      "source": [
        "Y = np.empty((10000, n_steps, 10))\n",
        "for step_ahead in range(1, 10 + 1):\n",
        "  Y[:, :, step_ahead - 1] = series[:, step_ahead:step_ahead + n_steps, 0]\n",
        "Y_train = Y[:7000]\n",
        "Y_valid = Y[7000:9000]\n",
        "Y_test = Y[9000:]"
      ],
      "execution_count": 51,
      "outputs": []
    },
    {
      "cell_type": "code",
      "metadata": {
        "colab": {
          "base_uri": "https://localhost:8080/"
        },
        "id": "X7QB9f63EwNY",
        "outputId": "991c4409-c08e-4639-c2c8-a50c7f007e07"
      },
      "source": [
        ""
      ],
      "execution_count": 53,
      "outputs": [
        {
          "output_type": "execute_result",
          "data": {
            "text/plain": [
              "array([[ 5.46065629e-01,  3.39846730e-01,  4.53113876e-02,\n",
              "        -2.22744778e-01, -3.87516856e-01, -4.74041849e-01,\n",
              "        -4.43802744e-01, -4.34779704e-01, -3.24585646e-01,\n",
              "        -3.15556765e-01],\n",
              "       [ 3.39846730e-01,  4.53113876e-02, -2.22744778e-01,\n",
              "        -3.87516856e-01, -4.74041849e-01, -4.43802744e-01,\n",
              "        -4.34779704e-01, -3.24585646e-01, -3.15556765e-01,\n",
              "        -2.01220125e-01],\n",
              "       [ 4.53113876e-02, -2.22744778e-01, -3.87516856e-01,\n",
              "        -4.74041849e-01, -4.43802744e-01, -4.34779704e-01,\n",
              "        -3.24585646e-01, -3.15556765e-01, -2.01220125e-01,\n",
              "        -1.12066500e-01],\n",
              "       [-2.22744778e-01, -3.87516856e-01, -4.74041849e-01,\n",
              "        -4.43802744e-01, -4.34779704e-01, -3.24585646e-01,\n",
              "        -3.15556765e-01, -2.01220125e-01, -1.12066500e-01,\n",
              "        -8.13144296e-02],\n",
              "       [-3.87516856e-01, -4.74041849e-01, -4.43802744e-01,\n",
              "        -4.34779704e-01, -3.24585646e-01, -3.15556765e-01,\n",
              "        -2.01220125e-01, -1.12066500e-01, -8.13144296e-02,\n",
              "         9.49831028e-03],\n",
              "       [-4.74041849e-01, -4.43802744e-01, -4.34779704e-01,\n",
              "        -3.24585646e-01, -3.15556765e-01, -2.01220125e-01,\n",
              "        -1.12066500e-01, -8.13144296e-02,  9.49831028e-03,\n",
              "         6.57800734e-02],\n",
              "       [-4.43802744e-01, -4.34779704e-01, -3.24585646e-01,\n",
              "        -3.15556765e-01, -2.01220125e-01, -1.12066500e-01,\n",
              "        -8.13144296e-02,  9.49831028e-03,  6.57800734e-02,\n",
              "         9.38482210e-02],\n",
              "       [-4.34779704e-01, -3.24585646e-01, -3.15556765e-01,\n",
              "        -2.01220125e-01, -1.12066500e-01, -8.13144296e-02,\n",
              "         9.49831028e-03,  6.57800734e-02,  9.38482210e-02,\n",
              "         2.31760070e-01],\n",
              "       [-3.24585646e-01, -3.15556765e-01, -2.01220125e-01,\n",
              "        -1.12066500e-01, -8.13144296e-02,  9.49831028e-03,\n",
              "         6.57800734e-02,  9.38482210e-02,  2.31760070e-01,\n",
              "         3.95249486e-01],\n",
              "       [-3.15556765e-01, -2.01220125e-01, -1.12066500e-01,\n",
              "        -8.13144296e-02,  9.49831028e-03,  6.57800734e-02,\n",
              "         9.38482210e-02,  2.31760070e-01,  3.95249486e-01,\n",
              "         4.57010895e-01],\n",
              "       [-2.01220125e-01, -1.12066500e-01, -8.13144296e-02,\n",
              "         9.49831028e-03,  6.57800734e-02,  9.38482210e-02,\n",
              "         2.31760070e-01,  3.95249486e-01,  4.57010895e-01,\n",
              "         5.22282958e-01],\n",
              "       [-1.12066500e-01, -8.13144296e-02,  9.49831028e-03,\n",
              "         6.57800734e-02,  9.38482210e-02,  2.31760070e-01,\n",
              "         3.95249486e-01,  4.57010895e-01,  5.22282958e-01,\n",
              "         5.74043453e-01],\n",
              "       [-8.13144296e-02,  9.49831028e-03,  6.57800734e-02,\n",
              "         9.38482210e-02,  2.31760070e-01,  3.95249486e-01,\n",
              "         4.57010895e-01,  5.22282958e-01,  5.74043453e-01,\n",
              "         4.26886320e-01],\n",
              "       [ 9.49831028e-03,  6.57800734e-02,  9.38482210e-02,\n",
              "         2.31760070e-01,  3.95249486e-01,  4.57010895e-01,\n",
              "         5.22282958e-01,  5.74043453e-01,  4.26886320e-01,\n",
              "         2.04786509e-01],\n",
              "       [ 6.57800734e-02,  9.38482210e-02,  2.31760070e-01,\n",
              "         3.95249486e-01,  4.57010895e-01,  5.22282958e-01,\n",
              "         5.74043453e-01,  4.26886320e-01,  2.04786509e-01,\n",
              "        -5.01427725e-02],\n",
              "       [ 9.38482210e-02,  2.31760070e-01,  3.95249486e-01,\n",
              "         4.57010895e-01,  5.22282958e-01,  5.74043453e-01,\n",
              "         4.26886320e-01,  2.04786509e-01, -5.01427725e-02,\n",
              "        -2.10987553e-01],\n",
              "       [ 2.31760070e-01,  3.95249486e-01,  4.57010895e-01,\n",
              "         5.22282958e-01,  5.74043453e-01,  4.26886320e-01,\n",
              "         2.04786509e-01, -5.01427725e-02, -2.10987553e-01,\n",
              "        -4.39181179e-01],\n",
              "       [ 3.95249486e-01,  4.57010895e-01,  5.22282958e-01,\n",
              "         5.74043453e-01,  4.26886320e-01,  2.04786509e-01,\n",
              "        -5.01427725e-02, -2.10987553e-01, -4.39181179e-01,\n",
              "        -6.20248258e-01],\n",
              "       [ 4.57010895e-01,  5.22282958e-01,  5.74043453e-01,\n",
              "         4.26886320e-01,  2.04786509e-01, -5.01427725e-02,\n",
              "        -2.10987553e-01, -4.39181179e-01, -6.20248258e-01,\n",
              "        -7.22797215e-01],\n",
              "       [ 5.22282958e-01,  5.74043453e-01,  4.26886320e-01,\n",
              "         2.04786509e-01, -5.01427725e-02, -2.10987553e-01,\n",
              "        -4.39181179e-01, -6.20248258e-01, -7.22797215e-01,\n",
              "        -6.63348317e-01],\n",
              "       [ 5.74043453e-01,  4.26886320e-01,  2.04786509e-01,\n",
              "        -5.01427725e-02, -2.10987553e-01, -4.39181179e-01,\n",
              "        -6.20248258e-01, -7.22797215e-01, -6.63348317e-01,\n",
              "        -5.30746579e-01],\n",
              "       [ 4.26886320e-01,  2.04786509e-01, -5.01427725e-02,\n",
              "        -2.10987553e-01, -4.39181179e-01, -6.20248258e-01,\n",
              "        -7.22797215e-01, -6.63348317e-01, -5.30746579e-01,\n",
              "        -3.13766807e-01],\n",
              "       [ 2.04786509e-01, -5.01427725e-02, -2.10987553e-01,\n",
              "        -4.39181179e-01, -6.20248258e-01, -7.22797215e-01,\n",
              "        -6.63348317e-01, -5.30746579e-01, -3.13766807e-01,\n",
              "        -7.66593888e-02],\n",
              "       [-5.01427725e-02, -2.10987553e-01, -4.39181179e-01,\n",
              "        -6.20248258e-01, -7.22797215e-01, -6.63348317e-01,\n",
              "        -5.30746579e-01, -3.13766807e-01, -7.66593888e-02,\n",
              "         1.68521941e-01],\n",
              "       [-2.10987553e-01, -4.39181179e-01, -6.20248258e-01,\n",
              "        -7.22797215e-01, -6.63348317e-01, -5.30746579e-01,\n",
              "        -3.13766807e-01, -7.66593888e-02,  1.68521941e-01,\n",
              "         3.56585294e-01],\n",
              "       [-4.39181179e-01, -6.20248258e-01, -7.22797215e-01,\n",
              "        -6.63348317e-01, -5.30746579e-01, -3.13766807e-01,\n",
              "        -7.66593888e-02,  1.68521941e-01,  3.56585294e-01,\n",
              "         3.90764922e-01],\n",
              "       [-6.20248258e-01, -7.22797215e-01, -6.63348317e-01,\n",
              "        -5.30746579e-01, -3.13766807e-01, -7.66593888e-02,\n",
              "         1.68521941e-01,  3.56585294e-01,  3.90764922e-01,\n",
              "         4.12161082e-01],\n",
              "       [-7.22797215e-01, -6.63348317e-01, -5.30746579e-01,\n",
              "        -3.13766807e-01, -7.66593888e-02,  1.68521941e-01,\n",
              "         3.56585294e-01,  3.90764922e-01,  4.12161082e-01,\n",
              "         3.85868669e-01],\n",
              "       [-6.63348317e-01, -5.30746579e-01, -3.13766807e-01,\n",
              "        -7.66593888e-02,  1.68521941e-01,  3.56585294e-01,\n",
              "         3.90764922e-01,  4.12161082e-01,  3.85868669e-01,\n",
              "         3.51887643e-01],\n",
              "       [-5.30746579e-01, -3.13766807e-01, -7.66593888e-02,\n",
              "         1.68521941e-01,  3.56585294e-01,  3.90764922e-01,\n",
              "         4.12161082e-01,  3.85868669e-01,  3.51887643e-01,\n",
              "         2.75792331e-01],\n",
              "       [-3.13766807e-01, -7.66593888e-02,  1.68521941e-01,\n",
              "         3.56585294e-01,  3.90764922e-01,  4.12161082e-01,\n",
              "         3.85868669e-01,  3.51887643e-01,  2.75792331e-01,\n",
              "         1.83227837e-01],\n",
              "       [-7.66593888e-02,  1.68521941e-01,  3.56585294e-01,\n",
              "         3.90764922e-01,  4.12161082e-01,  3.85868669e-01,\n",
              "         3.51887643e-01,  2.75792331e-01,  1.83227837e-01,\n",
              "         2.39674374e-01],\n",
              "       [ 1.68521941e-01,  3.56585294e-01,  3.90764922e-01,\n",
              "         4.12161082e-01,  3.85868669e-01,  3.51887643e-01,\n",
              "         2.75792331e-01,  1.83227837e-01,  2.39674374e-01,\n",
              "         1.47523627e-01],\n",
              "       [ 3.56585294e-01,  3.90764922e-01,  4.12161082e-01,\n",
              "         3.85868669e-01,  3.51887643e-01,  2.75792331e-01,\n",
              "         1.83227837e-01,  2.39674374e-01,  1.47523627e-01,\n",
              "         6.03236258e-02],\n",
              "       [ 3.90764922e-01,  4.12161082e-01,  3.85868669e-01,\n",
              "         3.51887643e-01,  2.75792331e-01,  1.83227837e-01,\n",
              "         2.39674374e-01,  1.47523627e-01,  6.03236258e-02,\n",
              "         1.48475152e-02],\n",
              "       [ 4.12161082e-01,  3.85868669e-01,  3.51887643e-01,\n",
              "         2.75792331e-01,  1.83227837e-01,  2.39674374e-01,\n",
              "         1.47523627e-01,  6.03236258e-02,  1.48475152e-02,\n",
              "        -6.64515123e-02],\n",
              "       [ 3.85868669e-01,  3.51887643e-01,  2.75792331e-01,\n",
              "         1.83227837e-01,  2.39674374e-01,  1.47523627e-01,\n",
              "         6.03236258e-02,  1.48475152e-02, -6.64515123e-02,\n",
              "        -2.37252325e-01],\n",
              "       [ 3.51887643e-01,  2.75792331e-01,  1.83227837e-01,\n",
              "         2.39674374e-01,  1.47523627e-01,  6.03236258e-02,\n",
              "         1.48475152e-02, -6.64515123e-02, -2.37252325e-01,\n",
              "        -3.87785554e-01],\n",
              "       [ 2.75792331e-01,  1.83227837e-01,  2.39674374e-01,\n",
              "         1.47523627e-01,  6.03236258e-02,  1.48475152e-02,\n",
              "        -6.64515123e-02, -2.37252325e-01, -3.87785554e-01,\n",
              "        -5.53018093e-01],\n",
              "       [ 1.83227837e-01,  2.39674374e-01,  1.47523627e-01,\n",
              "         6.03236258e-02,  1.48475152e-02, -6.64515123e-02,\n",
              "        -2.37252325e-01, -3.87785554e-01, -5.53018093e-01,\n",
              "        -6.44997001e-01],\n",
              "       [ 2.39674374e-01,  1.47523627e-01,  6.03236258e-02,\n",
              "         1.48475152e-02, -6.64515123e-02, -2.37252325e-01,\n",
              "        -3.87785554e-01, -5.53018093e-01, -6.44997001e-01,\n",
              "        -6.01073802e-01],\n",
              "       [ 1.47523627e-01,  6.03236258e-02,  1.48475152e-02,\n",
              "        -6.64515123e-02, -2.37252325e-01, -3.87785554e-01,\n",
              "        -5.53018093e-01, -6.44997001e-01, -6.01073802e-01,\n",
              "        -4.40754741e-01],\n",
              "       [ 6.03236258e-02,  1.48475152e-02, -6.64515123e-02,\n",
              "        -2.37252325e-01, -3.87785554e-01, -5.53018093e-01,\n",
              "        -6.44997001e-01, -6.01073802e-01, -4.40754741e-01,\n",
              "        -2.43885532e-01],\n",
              "       [ 1.48475152e-02, -6.64515123e-02, -2.37252325e-01,\n",
              "        -3.87785554e-01, -5.53018093e-01, -6.44997001e-01,\n",
              "        -6.01073802e-01, -4.40754741e-01, -2.43885532e-01,\n",
              "         4.26110055e-05],\n",
              "       [-6.64515123e-02, -2.37252325e-01, -3.87785554e-01,\n",
              "        -5.53018093e-01, -6.44997001e-01, -6.01073802e-01,\n",
              "        -4.40754741e-01, -2.43885532e-01,  4.26110055e-05,\n",
              "         3.25402111e-01],\n",
              "       [-2.37252325e-01, -3.87785554e-01, -5.53018093e-01,\n",
              "        -6.44997001e-01, -6.01073802e-01, -4.40754741e-01,\n",
              "        -2.43885532e-01,  4.26110055e-05,  3.25402111e-01,\n",
              "         4.77843583e-01],\n",
              "       [-3.87785554e-01, -5.53018093e-01, -6.44997001e-01,\n",
              "        -6.01073802e-01, -4.40754741e-01, -2.43885532e-01,\n",
              "         4.26110055e-05,  3.25402111e-01,  4.77843583e-01,\n",
              "         6.20148599e-01],\n",
              "       [-5.53018093e-01, -6.44997001e-01, -6.01073802e-01,\n",
              "        -4.40754741e-01, -2.43885532e-01,  4.26110055e-05,\n",
              "         3.25402111e-01,  4.77843583e-01,  6.20148599e-01,\n",
              "         6.59650385e-01],\n",
              "       [-6.44997001e-01, -6.01073802e-01, -4.40754741e-01,\n",
              "        -2.43885532e-01,  4.26110055e-05,  3.25402111e-01,\n",
              "         4.77843583e-01,  6.20148599e-01,  6.59650385e-01,\n",
              "         5.89970767e-01],\n",
              "       [-6.01073802e-01, -4.40754741e-01, -2.43885532e-01,\n",
              "         4.26110055e-05,  3.25402111e-01,  4.77843583e-01,\n",
              "         6.20148599e-01,  6.59650385e-01,  5.89970767e-01,\n",
              "         4.55260247e-01]])"
            ]
          },
          "metadata": {
            "tags": []
          },
          "execution_count": 53
        }
      ]
    },
    {
      "cell_type": "code",
      "metadata": {
        "id": "dnVoP-8XE8-f"
      },
      "source": [
        ""
      ],
      "execution_count": null,
      "outputs": []
    }
  ]
}