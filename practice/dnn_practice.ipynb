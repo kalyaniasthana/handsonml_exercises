{
 "cells": [
  {
   "cell_type": "code",
   "execution_count": 1,
   "metadata": {},
   "outputs": [],
   "source": [
    "import tensorflow as tf\n",
    "from tensorflow import keras"
   ]
  },
  {
   "cell_type": "code",
   "execution_count": 2,
   "metadata": {},
   "outputs": [],
   "source": [
    "fashion_mnist = keras.datasets.fashion_mnist\n",
    "(X_train_full, y_train_full), (X_test, y_test) = fashion_mnist.load_data()"
   ]
  },
  {
   "cell_type": "code",
   "execution_count": 3,
   "metadata": {},
   "outputs": [
    {
     "data": {
      "text/plain": [
       "(60000, 28, 28)"
      ]
     },
     "execution_count": 3,
     "metadata": {},
     "output_type": "execute_result"
    }
   ],
   "source": [
    "X_train_full.shape"
   ]
  },
  {
   "cell_type": "code",
   "execution_count": 4,
   "metadata": {},
   "outputs": [
    {
     "data": {
      "text/plain": [
       "dtype('uint8')"
      ]
     },
     "execution_count": 4,
     "metadata": {},
     "output_type": "execute_result"
    }
   ],
   "source": [
    "X_train_full.dtype"
   ]
  },
  {
   "cell_type": "code",
   "execution_count": 5,
   "metadata": {},
   "outputs": [],
   "source": [
    "X_valid, X_train = X_train_full[:5000]/255.0, X_train_full[5000:]/255.0\n",
    "y_valid, y_train = y_train_full[:5000], y_train_full[5000:]"
   ]
  },
  {
   "cell_type": "code",
   "execution_count": 6,
   "metadata": {},
   "outputs": [],
   "source": [
    "class_names = ['T-shirt/top', 'Trouser', 'Pullover', 'Dress', 'Coat', \n",
    "              'Sandal', 'Shirt', 'Sneaker', 'Bag', 'Ankle Boot']"
   ]
  },
  {
   "cell_type": "code",
   "execution_count": 7,
   "metadata": {},
   "outputs": [
    {
     "data": {
      "text/plain": [
       "'Coat'"
      ]
     },
     "execution_count": 7,
     "metadata": {},
     "output_type": "execute_result"
    }
   ],
   "source": [
    "class_names[y_train[0]]"
   ]
  },
  {
   "cell_type": "code",
   "execution_count": 8,
   "metadata": {},
   "outputs": [],
   "source": [
    "X_test = X_test/255.0"
   ]
  },
  {
   "cell_type": "code",
   "execution_count": 9,
   "metadata": {},
   "outputs": [],
   "source": [
    "X_train_A, X_train_B = X_train[:, :5], X_train[:, 2:]\n",
    "X_valid_A, X_valid_B = X_valid[:, :5], X_valid[:, 2:]\n",
    "X_test_A, X_test_B = X_test[:, 5:], X_test[:, 2:]"
   ]
  },
  {
   "cell_type": "code",
   "execution_count": 12,
   "metadata": {},
   "outputs": [],
   "source": [
    "model = keras.models.Sequential([\n",
    "    keras.layers.Flatten(input_shape=[28, 28]),\n",
    "    keras.layers.BatchNormalization(),\n",
    "    keras.layers.Dense(300, activation='elu', kernel_initializer='he_normal'),\n",
    "    keras.layers.BatchNormalization(),\n",
    "    keras.layers.Dense(100, activation='elu', kernel_initializer='he_normal'),\n",
    "    keras.layers.BatchNormalization(),\n",
    "    keras.layers.Dense(10, activation='softmax')])"
   ]
  },
  {
   "cell_type": "code",
   "execution_count": 13,
   "metadata": {},
   "outputs": [
    {
     "name": "stdout",
     "output_type": "stream",
     "text": [
      "Model: \"sequential\"\n",
      "_________________________________________________________________\n",
      "Layer (type)                 Output Shape              Param #   \n",
      "=================================================================\n",
      "flatten_3 (Flatten)          (None, 784)               0         \n",
      "_________________________________________________________________\n",
      "batch_normalization_4 (Batch (None, 784)               3136      \n",
      "_________________________________________________________________\n",
      "dense_1 (Dense)              (None, 300)               235500    \n",
      "_________________________________________________________________\n",
      "batch_normalization_5 (Batch (None, 300)               1200      \n",
      "_________________________________________________________________\n",
      "dense_2 (Dense)              (None, 100)               30100     \n",
      "_________________________________________________________________\n",
      "batch_normalization_6 (Batch (None, 100)               400       \n",
      "_________________________________________________________________\n",
      "dense_3 (Dense)              (None, 10)                1010      \n",
      "=================================================================\n",
      "Total params: 271,346\n",
      "Trainable params: 268,978\n",
      "Non-trainable params: 2,368\n",
      "_________________________________________________________________\n"
     ]
    }
   ],
   "source": [
    "model.summary()"
   ]
  },
  {
   "cell_type": "code",
   "execution_count": 14,
   "metadata": {},
   "outputs": [
    {
     "data": {
      "text/plain": [
       "[('batch_normalization_4/gamma:0', True),\n",
       " ('batch_normalization_4/beta:0', True),\n",
       " ('batch_normalization_4/moving_mean:0', False),\n",
       " ('batch_normalization_4/moving_variance:0', False)]"
      ]
     },
     "execution_count": 14,
     "metadata": {},
     "output_type": "execute_result"
    }
   ],
   "source": [
    "# let's look at the parameters of the first layers\n",
    "[(var.name, var.trainable) for var in model.layers[1].variables]"
   ]
  },
  {
   "cell_type": "code",
   "execution_count": 15,
   "metadata": {},
   "outputs": [
    {
     "name": "stderr",
     "output_type": "stream",
     "text": [
      "/Users/kalyaniasthana/handsonml/venv/lib/python3.7/site-packages/tensorflow/python/keras/engine/base_layer.py:1402: UserWarning: `layer.updates` will be removed in a future version. This property should not be used in TensorFlow 2.0, as `updates` are applied automatically.\n",
      "  warnings.warn('`layer.updates` will be removed in a future version. '\n"
     ]
    },
    {
     "data": {
      "text/plain": [
       "[]"
      ]
     },
     "execution_count": 15,
     "metadata": {},
     "output_type": "execute_result"
    }
   ],
   "source": [
    "model.layers[1].updates"
   ]
  },
  {
   "cell_type": "code",
   "execution_count": 16,
   "metadata": {},
   "outputs": [
    {
     "data": {
      "text/plain": [
       "[]"
      ]
     },
     "execution_count": 16,
     "metadata": {},
     "output_type": "execute_result"
    }
   ],
   "source": [
    "[(var.name, var.trainable) for var in model.layers[0].variables] # yeah makes sense since there's nothing coming in"
   ]
  },
  {
   "cell_type": "code",
   "execution_count": 17,
   "metadata": {},
   "outputs": [],
   "source": [
    "# # do batch normalization before activation \n",
    "# model = keras.models.Sequential([\n",
    "#     keras.layers.Flatten(input_shape=[28, 28]),\n",
    "#     keras.layers.BatchNormalization(),\n",
    "#     keras.layers.Dense(300, use_bias=False),\n",
    "#     keras.layers.BatchNormalization(),\n",
    "#     keras.layers.Activation('elu'),\n",
    "#     keras.layers.Dense(100, use_bias=False),\n",
    "#     keras.layers.BatchNormalization(),\n",
    "#     keras.layers.Activation('elu'),\n",
    "#     keras.layers.Dense(10, activation='softmax')\n",
    "# ])"
   ]
  },
  {
   "cell_type": "code",
   "execution_count": 18,
   "metadata": {},
   "outputs": [],
   "source": [
    "optimizer = keras.optimizers.SGD(lr=0.001, momentum=0.9)"
   ]
  },
  {
   "cell_type": "code",
   "execution_count": 19,
   "metadata": {},
   "outputs": [],
   "source": [
    "model.compile(loss='sparse_categorical_crossentropy', optimizer=optimizer, metrics=['accuracy'])"
   ]
  },
  {
   "cell_type": "code",
   "execution_count": 20,
   "metadata": {},
   "outputs": [
    {
     "name": "stdout",
     "output_type": "stream",
     "text": [
      "Model: \"sequential\"\n",
      "_________________________________________________________________\n",
      "Layer (type)                 Output Shape              Param #   \n",
      "=================================================================\n",
      "flatten_3 (Flatten)          (None, 784)               0         \n",
      "_________________________________________________________________\n",
      "batch_normalization_4 (Batch (None, 784)               3136      \n",
      "_________________________________________________________________\n",
      "dense_1 (Dense)              (None, 300)               235500    \n",
      "_________________________________________________________________\n",
      "batch_normalization_5 (Batch (None, 300)               1200      \n",
      "_________________________________________________________________\n",
      "dense_2 (Dense)              (None, 100)               30100     \n",
      "_________________________________________________________________\n",
      "batch_normalization_6 (Batch (None, 100)               400       \n",
      "_________________________________________________________________\n",
      "dense_3 (Dense)              (None, 10)                1010      \n",
      "=================================================================\n",
      "Total params: 271,346\n",
      "Trainable params: 268,978\n",
      "Non-trainable params: 2,368\n",
      "_________________________________________________________________\n"
     ]
    }
   ],
   "source": [
    "model.summary()"
   ]
  },
  {
   "cell_type": "code",
   "execution_count": 21,
   "metadata": {},
   "outputs": [
    {
     "name": "stdout",
     "output_type": "stream",
     "text": [
      "Epoch 1/30\n",
      "1719/1719 [==============================] - 8s 4ms/step - loss: 0.7119 - accuracy: 0.7532 - val_loss: 0.4004 - val_accuracy: 0.8606\n",
      "Epoch 2/30\n",
      "1719/1719 [==============================] - 7s 4ms/step - loss: 0.4286 - accuracy: 0.8471 - val_loss: 0.3685 - val_accuracy: 0.8686\n",
      "Epoch 3/30\n",
      "1719/1719 [==============================] - 7s 4ms/step - loss: 0.3889 - accuracy: 0.8622 - val_loss: 0.3560 - val_accuracy: 0.8742\n",
      "Epoch 4/30\n",
      "1719/1719 [==============================] - 7s 4ms/step - loss: 0.3631 - accuracy: 0.8684 - val_loss: 0.3382 - val_accuracy: 0.8810\n",
      "Epoch 5/30\n",
      "1719/1719 [==============================] - 7s 4ms/step - loss: 0.3387 - accuracy: 0.8766 - val_loss: 0.3357 - val_accuracy: 0.8822\n",
      "Epoch 6/30\n",
      "1719/1719 [==============================] - 7s 4ms/step - loss: 0.3235 - accuracy: 0.8837 - val_loss: 0.3262 - val_accuracy: 0.8830\n",
      "Epoch 7/30\n",
      "1719/1719 [==============================] - 7s 4ms/step - loss: 0.3131 - accuracy: 0.8855 - val_loss: 0.3197 - val_accuracy: 0.8850\n",
      "Epoch 8/30\n",
      "1719/1719 [==============================] - 7s 4ms/step - loss: 0.3004 - accuracy: 0.8915 - val_loss: 0.3212 - val_accuracy: 0.8834\n",
      "Epoch 9/30\n",
      "1719/1719 [==============================] - 7s 4ms/step - loss: 0.2964 - accuracy: 0.8932 - val_loss: 0.3222 - val_accuracy: 0.8820\n",
      "Epoch 10/30\n",
      "1719/1719 [==============================] - 7s 4ms/step - loss: 0.2808 - accuracy: 0.8973 - val_loss: 0.3205 - val_accuracy: 0.8894\n",
      "Epoch 11/30\n",
      "1719/1719 [==============================] - 8s 4ms/step - loss: 0.2783 - accuracy: 0.8996 - val_loss: 0.3130 - val_accuracy: 0.8886\n",
      "Epoch 12/30\n",
      "1719/1719 [==============================] - 7s 4ms/step - loss: 0.2680 - accuracy: 0.9007 - val_loss: 0.3148 - val_accuracy: 0.8906\n",
      "Epoch 13/30\n",
      "1719/1719 [==============================] - 8s 4ms/step - loss: 0.2596 - accuracy: 0.9038 - val_loss: 0.3157 - val_accuracy: 0.8910\n",
      "Epoch 14/30\n",
      "1719/1719 [==============================] - 9s 5ms/step - loss: 0.2520 - accuracy: 0.9064 - val_loss: 0.3187 - val_accuracy: 0.8868\n",
      "Epoch 15/30\n",
      "1719/1719 [==============================] - 7s 4ms/step - loss: 0.2482 - accuracy: 0.9100 - val_loss: 0.3120 - val_accuracy: 0.8924\n",
      "Epoch 16/30\n",
      "1719/1719 [==============================] - 7s 4ms/step - loss: 0.2410 - accuracy: 0.9123 - val_loss: 0.3105 - val_accuracy: 0.8914\n",
      "Epoch 17/30\n",
      "1719/1719 [==============================] - 12s 7ms/step - loss: 0.2288 - accuracy: 0.9180 - val_loss: 0.3057 - val_accuracy: 0.8944\n",
      "Epoch 18/30\n",
      "1719/1719 [==============================] - 7s 4ms/step - loss: 0.2267 - accuracy: 0.9161 - val_loss: 0.3065 - val_accuracy: 0.8928\n",
      "Epoch 19/30\n",
      "1719/1719 [==============================] - 6s 4ms/step - loss: 0.2255 - accuracy: 0.9162 - val_loss: 0.3096 - val_accuracy: 0.8898\n",
      "Epoch 20/30\n",
      "1719/1719 [==============================] - 7s 4ms/step - loss: 0.2206 - accuracy: 0.9203 - val_loss: 0.3052 - val_accuracy: 0.8926\n",
      "Epoch 21/30\n",
      "1719/1719 [==============================] - 8s 5ms/step - loss: 0.2116 - accuracy: 0.9220 - val_loss: 0.3066 - val_accuracy: 0.8912\n",
      "Epoch 22/30\n",
      "1719/1719 [==============================] - 7s 4ms/step - loss: 0.2097 - accuracy: 0.9227 - val_loss: 0.3073 - val_accuracy: 0.8922\n",
      "Epoch 23/30\n",
      "1719/1719 [==============================] - 7s 4ms/step - loss: 0.2059 - accuracy: 0.9247 - val_loss: 0.3082 - val_accuracy: 0.8926\n",
      "Epoch 24/30\n",
      "1719/1719 [==============================] - 7s 4ms/step - loss: 0.1943 - accuracy: 0.9289 - val_loss: 0.3085 - val_accuracy: 0.8930\n",
      "Epoch 25/30\n",
      "1719/1719 [==============================] - 7s 4ms/step - loss: 0.1970 - accuracy: 0.9279 - val_loss: 0.3093 - val_accuracy: 0.8914\n",
      "Epoch 26/30\n",
      "1719/1719 [==============================] - 8s 4ms/step - loss: 0.1832 - accuracy: 0.9323 - val_loss: 0.3102 - val_accuracy: 0.8942\n",
      "Epoch 27/30\n",
      "1719/1719 [==============================] - 7s 4ms/step - loss: 0.1840 - accuracy: 0.9327 - val_loss: 0.3056 - val_accuracy: 0.8936\n",
      "Epoch 28/30\n",
      "1719/1719 [==============================] - 7s 4ms/step - loss: 0.1820 - accuracy: 0.9334 - val_loss: 0.3124 - val_accuracy: 0.8950\n",
      "Epoch 29/30\n",
      "1719/1719 [==============================] - 8s 4ms/step - loss: 0.1734 - accuracy: 0.9379 - val_loss: 0.3138 - val_accuracy: 0.8950\n",
      "Epoch 30/30\n",
      "1719/1719 [==============================] - 8s 4ms/step - loss: 0.1785 - accuracy: 0.9336 - val_loss: 0.3169 - val_accuracy: 0.8928\n"
     ]
    }
   ],
   "source": [
    "history = model.fit(X_train, y_train, epochs=30,\n",
    "                    validation_data=(X_valid, y_valid))"
   ]
  },
  {
   "cell_type": "code",
   "execution_count": 22,
   "metadata": {},
   "outputs": [],
   "source": [
    "optimizer = keras.optimizers.SGD(lr=0.001, momentum=0.9, nesterov=True)"
   ]
  },
  {
   "cell_type": "code",
   "execution_count": 23,
   "metadata": {},
   "outputs": [],
   "source": [
    "model.compile(loss='mean_squared_error', optimizer=optimizer, metrics=['accuracy'])"
   ]
  },
  {
   "cell_type": "code",
   "execution_count": 24,
   "metadata": {},
   "outputs": [
    {
     "name": "stdout",
     "output_type": "stream",
     "text": [
      "Epoch 1/30\n",
      "1719/1719 [==============================] - 8s 4ms/step - loss: 27.7835 - accuracy: 0.8865 - val_loss: 27.6469 - val_accuracy: 0.5666\n",
      "Epoch 2/30\n",
      "1719/1719 [==============================] - 7s 4ms/step - loss: 27.5667 - accuracy: 0.5429 - val_loss: 27.6280 - val_accuracy: 0.3578\n",
      "Epoch 3/30\n",
      "1719/1719 [==============================] - 7s 4ms/step - loss: 27.5561 - accuracy: 0.3517 - val_loss: 27.6156 - val_accuracy: 0.2466\n",
      "Epoch 4/30\n",
      "1719/1719 [==============================] - 7s 4ms/step - loss: 27.5910 - accuracy: 0.2560 - val_loss: 27.6083 - val_accuracy: 0.2062\n",
      "Epoch 5/30\n",
      "1719/1719 [==============================] - 7s 4ms/step - loss: 27.8024 - accuracy: 0.2248 - val_loss: 27.6039 - val_accuracy: 0.1848\n",
      "Epoch 6/30\n",
      "1719/1719 [==============================] - 7s 4ms/step - loss: 27.8529 - accuracy: 0.2077 - val_loss: 27.6009 - val_accuracy: 0.1730\n",
      "Epoch 7/30\n",
      "1719/1719 [==============================] - 7s 4ms/step - loss: 27.7369 - accuracy: 0.2015 - val_loss: 27.5989 - val_accuracy: 0.1722\n",
      "Epoch 8/30\n",
      "1719/1719 [==============================] - 7s 4ms/step - loss: 27.6541 - accuracy: 0.1946 - val_loss: 27.5975 - val_accuracy: 0.1690\n",
      "Epoch 9/30\n",
      "1719/1719 [==============================] - 7s 4ms/step - loss: 27.6392 - accuracy: 0.1932 - val_loss: 27.5964 - val_accuracy: 0.1664\n",
      "Epoch 10/30\n",
      "1719/1719 [==============================] - 7s 4ms/step - loss: 27.4749 - accuracy: 0.1920 - val_loss: 27.5956 - val_accuracy: 0.1628\n",
      "Epoch 11/30\n",
      "1719/1719 [==============================] - 7s 4ms/step - loss: 27.8781 - accuracy: 0.1874 - val_loss: 27.5949 - val_accuracy: 0.1622\n",
      "Epoch 12/30\n",
      "1719/1719 [==============================] - 7s 4ms/step - loss: 27.8475 - accuracy: 0.1838 - val_loss: 27.5943 - val_accuracy: 0.1650\n",
      "Epoch 13/30\n",
      "1719/1719 [==============================] - 8s 5ms/step - loss: 27.5179 - accuracy: 0.1842 - val_loss: 27.5938 - val_accuracy: 0.1654\n",
      "Epoch 14/30\n",
      "1719/1719 [==============================] - 8s 4ms/step - loss: 27.4836 - accuracy: 0.1859 - val_loss: 27.5934 - val_accuracy: 0.1630\n",
      "Epoch 15/30\n",
      "1719/1719 [==============================] - 7s 4ms/step - loss: 27.9346 - accuracy: 0.1817 - val_loss: 27.5931 - val_accuracy: 0.1624\n",
      "Epoch 16/30\n",
      "1719/1719 [==============================] - 10s 6ms/step - loss: 27.6943 - accuracy: 0.1813 - val_loss: 27.5927 - val_accuracy: 0.1592\n",
      "Epoch 17/30\n",
      "1719/1719 [==============================] - 7s 4ms/step - loss: 27.5596 - accuracy: 0.1798 - val_loss: 27.5925 - val_accuracy: 0.1616\n",
      "Epoch 18/30\n",
      "1719/1719 [==============================] - 8s 5ms/step - loss: 27.6017 - accuracy: 0.1795 - val_loss: 27.5923 - val_accuracy: 0.1618\n",
      "Epoch 19/30\n",
      "1719/1719 [==============================] - 7s 4ms/step - loss: 27.5173 - accuracy: 0.1817 - val_loss: 27.5921 - val_accuracy: 0.1564\n",
      "Epoch 20/30\n",
      "1719/1719 [==============================] - 7s 4ms/step - loss: 27.5169 - accuracy: 0.1764 - val_loss: 27.5919 - val_accuracy: 0.1584\n",
      "Epoch 21/30\n",
      "1719/1719 [==============================] - 7s 4ms/step - loss: 27.4112 - accuracy: 0.1774 - val_loss: 27.5917 - val_accuracy: 0.1556\n",
      "Epoch 22/30\n",
      "1719/1719 [==============================] - 7s 4ms/step - loss: 27.4964 - accuracy: 0.1739 - val_loss: 27.5916 - val_accuracy: 0.1502\n",
      "Epoch 23/30\n",
      "1719/1719 [==============================] - 8s 5ms/step - loss: 27.4574 - accuracy: 0.1705 - val_loss: 27.5915 - val_accuracy: 0.1508\n",
      "Epoch 24/30\n",
      "1719/1719 [==============================] - 8s 4ms/step - loss: 27.7106 - accuracy: 0.1706 - val_loss: 27.5914 - val_accuracy: 0.1464\n",
      "Epoch 25/30\n",
      "1719/1719 [==============================] - 8s 5ms/step - loss: 27.5357 - accuracy: 0.1691 - val_loss: 27.5913 - val_accuracy: 0.1504\n",
      "Epoch 26/30\n",
      "1719/1719 [==============================] - 8s 5ms/step - loss: 27.7179 - accuracy: 0.1700 - val_loss: 27.5912 - val_accuracy: 0.1470\n",
      "Epoch 27/30\n",
      "1719/1719 [==============================] - 8s 5ms/step - loss: 27.5404 - accuracy: 0.1700 - val_loss: 27.5911 - val_accuracy: 0.1490\n",
      "Epoch 28/30\n",
      "1719/1719 [==============================] - 8s 5ms/step - loss: 27.7039 - accuracy: 0.1660 - val_loss: 27.5910 - val_accuracy: 0.1520\n",
      "Epoch 29/30\n",
      "1719/1719 [==============================] - 7s 4ms/step - loss: 27.6649 - accuracy: 0.1683 - val_loss: 27.5910 - val_accuracy: 0.1474\n",
      "Epoch 30/30\n",
      "1719/1719 [==============================] - 9s 5ms/step - loss: 27.5437 - accuracy: 0.1705 - val_loss: 27.5909 - val_accuracy: 0.1478\n"
     ]
    }
   ],
   "source": [
    "history = model.fit(X_train, y_train, epochs=30,\n",
    "                    validation_data=(X_valid, y_valid))"
   ]
  },
  {
   "cell_type": "code",
   "execution_count": 26,
   "metadata": {},
   "outputs": [],
   "source": [
    "optimizer = keras.optimizers.RMSprop(lr=0.001, rho=0.9)"
   ]
  },
  {
   "cell_type": "code",
   "execution_count": 27,
   "metadata": {},
   "outputs": [],
   "source": [
    "model.compile(loss='mean_squared_error', optimizer=optimizer, metrics=['accuracy'])"
   ]
  },
  {
   "cell_type": "code",
   "execution_count": 28,
   "metadata": {},
   "outputs": [
    {
     "name": "stdout",
     "output_type": "stream",
     "text": [
      "Epoch 1/30\n",
      "1719/1719 [==============================] - 10s 5ms/step - loss: 27.6354 - accuracy: 0.1110 - val_loss: 27.5892 - val_accuracy: 0.0722\n",
      "Epoch 2/30\n",
      "1719/1719 [==============================] - 9s 5ms/step - loss: 27.6766 - accuracy: 0.0939 - val_loss: 27.5892 - val_accuracy: 0.0254\n",
      "Epoch 3/30\n",
      "1719/1719 [==============================] - 9s 5ms/step - loss: 27.7451 - accuracy: 0.1014 - val_loss: 27.5892 - val_accuracy: 0.1414\n",
      "Epoch 4/30\n",
      "1719/1719 [==============================] - 12s 7ms/step - loss: 27.4821 - accuracy: 0.0941 - val_loss: 27.5892 - val_accuracy: 0.0446\n",
      "Epoch 5/30\n",
      "1719/1719 [==============================] - 12s 7ms/step - loss: 27.4988 - accuracy: 0.0887 - val_loss: 27.5892 - val_accuracy: 0.1210\n",
      "Epoch 6/30\n",
      "1719/1719 [==============================] - 10s 6ms/step - loss: 27.4928 - accuracy: 0.0990 - val_loss: 27.5892 - val_accuracy: 0.0354\n",
      "Epoch 7/30\n",
      "1719/1719 [==============================] - 9s 5ms/step - loss: 27.5839 - accuracy: 0.0967 - val_loss: 27.5892 - val_accuracy: 0.1270\n",
      "Epoch 8/30\n",
      "1719/1719 [==============================] - 9s 5ms/step - loss: 27.4880 - accuracy: 0.0995 - val_loss: 27.5892 - val_accuracy: 0.1580\n",
      "Epoch 9/30\n",
      "1719/1719 [==============================] - 9s 5ms/step - loss: 27.7601 - accuracy: 0.0985 - val_loss: 27.5892 - val_accuracy: 0.0678\n",
      "Epoch 10/30\n",
      "1719/1719 [==============================] - 9s 5ms/step - loss: 27.7724 - accuracy: 0.1039 - val_loss: 27.5892 - val_accuracy: 0.0978\n",
      "Epoch 11/30\n",
      "1719/1719 [==============================] - 9s 5ms/step - loss: 27.4971 - accuracy: 0.1081 - val_loss: 27.5892 - val_accuracy: 0.1964\n",
      "Epoch 12/30\n",
      "1719/1719 [==============================] - 10s 6ms/step - loss: 27.6505 - accuracy: 0.1053 - val_loss: 27.5892 - val_accuracy: 0.0606\n",
      "Epoch 13/30\n",
      "1719/1719 [==============================] - 9s 5ms/step - loss: 27.3971 - accuracy: 0.1023 - val_loss: 27.5892 - val_accuracy: 0.0934\n",
      "Epoch 14/30\n",
      "1719/1719 [==============================] - 10s 6ms/step - loss: 27.4697 - accuracy: 0.1040 - val_loss: 27.5892 - val_accuracy: 0.0964\n",
      "Epoch 15/30\n",
      "1719/1719 [==============================] - 9s 6ms/step - loss: 27.5121 - accuracy: 0.1018 - val_loss: 27.5892 - val_accuracy: 0.0760\n",
      "Epoch 16/30\n",
      "1719/1719 [==============================] - 10s 6ms/step - loss: 27.6180 - accuracy: 0.1024 - val_loss: 27.5892 - val_accuracy: 0.1088\n",
      "Epoch 17/30\n",
      "1719/1719 [==============================] - 10s 6ms/step - loss: 27.5580 - accuracy: 0.1060 - val_loss: 27.5892 - val_accuracy: 0.1034\n",
      "Epoch 18/30\n",
      "1719/1719 [==============================] - 9s 5ms/step - loss: 27.7487 - accuracy: 0.1071 - val_loss: 27.5892 - val_accuracy: 0.0966\n",
      "Epoch 19/30\n",
      "1719/1719 [==============================] - 10s 6ms/step - loss: 27.6695 - accuracy: 0.1061 - val_loss: 27.5892 - val_accuracy: 0.1000\n",
      "Epoch 20/30\n",
      "1719/1719 [==============================] - 10s 6ms/step - loss: 27.5554 - accuracy: 0.0973 - val_loss: 27.5892 - val_accuracy: 0.0826\n",
      "Epoch 21/30\n",
      "1719/1719 [==============================] - 10s 6ms/step - loss: 27.6235 - accuracy: 0.1091 - val_loss: 27.5892 - val_accuracy: 0.0576\n",
      "Epoch 22/30\n",
      "1719/1719 [==============================] - 10s 6ms/step - loss: 27.5521 - accuracy: 0.1007 - val_loss: 27.5892 - val_accuracy: 0.0874\n",
      "Epoch 23/30\n",
      "1719/1719 [==============================] - 10s 6ms/step - loss: 27.6153 - accuracy: 0.1014 - val_loss: 27.5892 - val_accuracy: 0.0962\n",
      "Epoch 24/30\n",
      "1719/1719 [==============================] - 10s 6ms/step - loss: 27.6570 - accuracy: 0.1040 - val_loss: 27.5892 - val_accuracy: 0.0988\n",
      "Epoch 25/30\n",
      "1719/1719 [==============================] - 10s 6ms/step - loss: 27.5431 - accuracy: 0.1044 - val_loss: 27.5892 - val_accuracy: 0.1264\n",
      "Epoch 26/30\n",
      "1719/1719 [==============================] - 10s 6ms/step - loss: 27.5737 - accuracy: 0.1013 - val_loss: 27.5892 - val_accuracy: 0.1846\n",
      "Epoch 27/30\n",
      "1719/1719 [==============================] - 10s 6ms/step - loss: 27.5246 - accuracy: 0.1042 - val_loss: 27.5892 - val_accuracy: 0.0952\n",
      "Epoch 28/30\n",
      "1719/1719 [==============================] - 10s 6ms/step - loss: 27.7733 - accuracy: 0.0989 - val_loss: 27.5892 - val_accuracy: 0.1146\n",
      "Epoch 29/30\n",
      "1719/1719 [==============================] - 10s 6ms/step - loss: 27.7295 - accuracy: 0.1018 - val_loss: 27.5892 - val_accuracy: 0.0916\n",
      "Epoch 30/30\n",
      "1719/1719 [==============================] - 10s 6ms/step - loss: 27.6237 - accuracy: 0.1063 - val_loss: 27.5892 - val_accuracy: 0.1240\n"
     ]
    }
   ],
   "source": [
    "history = model.fit(X_train, y_train, epochs=30,\n",
    "                    validation_data=(X_valid, y_valid))"
   ]
  },
  {
   "cell_type": "code",
   "execution_count": null,
   "metadata": {},
   "outputs": [],
   "source": []
  }
 ],
 "metadata": {
  "kernelspec": {
   "display_name": "venv",
   "language": "python",
   "name": "venv"
  },
  "language_info": {
   "codemirror_mode": {
    "name": "ipython",
    "version": 3
   },
   "file_extension": ".py",
   "mimetype": "text/x-python",
   "name": "python",
   "nbconvert_exporter": "python",
   "pygments_lexer": "ipython3",
   "version": "3.7.6"
  }
 },
 "nbformat": 4,
 "nbformat_minor": 4
}
