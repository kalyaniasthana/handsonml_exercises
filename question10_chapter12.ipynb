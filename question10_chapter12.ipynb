{
 "cells": [
  {
   "cell_type": "code",
   "execution_count": 1,
   "metadata": {},
   "outputs": [],
   "source": [
    "import numpy as np\n",
    "import matplotlib.pyplot as plt\n",
    "from tqdm import tqdm\n",
    "import tensorflow as tf\n",
    "from tensorflow import keras"
   ]
  },
  {
   "cell_type": "code",
   "execution_count": 2,
   "metadata": {},
   "outputs": [],
   "source": [
    "import os"
   ]
  },
  {
   "cell_type": "code",
   "execution_count": 5,
   "metadata": {},
   "outputs": [
    {
     "data": {
      "text/plain": [
       "['question_9_ch13.ipynb',\n",
       " 'my_logs',\n",
       " 'keras_mnist.ipynb',\n",
       " '.DS_Store',\n",
       " 'ensemble_learning.ipynb',\n",
       " 'question10_chapter12.ipynb',\n",
       " 'test.csv',\n",
       " 'datasets',\n",
       " 'submission.csv',\n",
       " 'tackle_titanic.ipynb',\n",
       " 'dim_reduct.ipynb',\n",
       " '.gitignore',\n",
       " 'fashion_mnist_keras_model.h5',\n",
       " 'tackle_titanic_final_clean_maybe.ipynb',\n",
       " 'titanic.zip',\n",
       " 'train.csv',\n",
       " '.ipynb_checkpoints',\n",
       " 'decision_trees.ipynb',\n",
       " 'venv',\n",
       " '.git',\n",
       " 'practice',\n",
       " 'tackle_titanic_2.ipynb',\n",
       " 'gender_submission.csv',\n",
       " 'clustering.ipynb']"
      ]
     },
     "execution_count": 5,
     "metadata": {},
     "output_type": "execute_result"
    }
   ],
   "source": [
    "# split the test set into validation set (15,000) and test set (10,000)\n",
    "\n",
    "os.listdir(os.getcwd())"
   ]
  },
  {
   "cell_type": "code",
   "execution_count": 6,
   "metadata": {},
   "outputs": [
    {
     "data": {
      "text/plain": [
       "['.DS_Store',\n",
       " 'fashion_mnist',\n",
       " 'aclImdb',\n",
       " 'aclImdb_v1.tar.gz',\n",
       " '.ipynb_checkpoints']"
      ]
     },
     "execution_count": 6,
     "metadata": {},
     "output_type": "execute_result"
    }
   ],
   "source": [
    "os.listdir(os.path.join(os.getcwd(), 'datasets'))"
   ]
  },
  {
   "cell_type": "code",
   "execution_count": 7,
   "metadata": {},
   "outputs": [
    {
     "data": {
      "text/plain": [
       "['imdbEr.txt', 'test', 'imdb.vocab', 'README', 'train']"
      ]
     },
     "execution_count": 7,
     "metadata": {},
     "output_type": "execute_result"
    }
   ],
   "source": [
    "large_movieset_path = os.path.join(os.getcwd(), 'datasets/aclImdb')\n",
    "\n",
    "os.listdir(large_movieset_path)"
   ]
  },
  {
   "cell_type": "code",
   "execution_count": 8,
   "metadata": {},
   "outputs": [],
   "source": [
    "testset_folder = os.path.join(large_movieset_path, 'test')\n",
    "trainset_folder = os.path.join(large_movieset_path, 'train')"
   ]
  },
  {
   "cell_type": "code",
   "execution_count": 9,
   "metadata": {},
   "outputs": [
    {
     "data": {
      "text/plain": [
       "['neg', 'urls_pos.txt', 'urls_neg.txt', 'pos', 'labeledBow.feat']"
      ]
     },
     "execution_count": 9,
     "metadata": {},
     "output_type": "execute_result"
    }
   ],
   "source": [
    "os.listdir(testset_folder)"
   ]
  },
  {
   "cell_type": "code",
   "execution_count": 10,
   "metadata": {},
   "outputs": [
    {
     "data": {
      "text/plain": [
       "['urls_unsup.txt',\n",
       " 'neg',\n",
       " 'urls_pos.txt',\n",
       " 'unsup',\n",
       " 'urls_neg.txt',\n",
       " 'pos',\n",
       " 'unsupBow.feat',\n",
       " 'labeledBow.feat']"
      ]
     },
     "execution_count": 10,
     "metadata": {},
     "output_type": "execute_result"
    }
   ],
   "source": [
    "os.listdir(trainset_folder)"
   ]
  },
  {
   "cell_type": "code",
   "execution_count": 11,
   "metadata": {},
   "outputs": [],
   "source": [
    "test_pos_reviews_folder = os.path.join(testset_folder, 'pos')\n",
    "test_neg_reviews_folder = os.path.join(testset_folder, 'neg')\n",
    "\n",
    "train_pos_reviews_folder = os.path.join(trainset_folder, 'pos')\n",
    "train_neg_reviews_folder = os.path.join(trainset_folder, 'neg')\n"
   ]
  },
  {
   "cell_type": "code",
   "execution_count": 12,
   "metadata": {},
   "outputs": [
    {
     "data": {
      "text/plain": [
       "(12500, 12500)"
      ]
     },
     "execution_count": 12,
     "metadata": {},
     "output_type": "execute_result"
    }
   ],
   "source": [
    "len(os.listdir(test_pos_reviews_folder)), len(os.listdir(test_neg_reviews_folder))"
   ]
  },
  {
   "cell_type": "code",
   "execution_count": 13,
   "metadata": {},
   "outputs": [
    {
     "data": {
      "text/plain": [
       "(12500, 12500)"
      ]
     },
     "execution_count": 13,
     "metadata": {},
     "output_type": "execute_result"
    }
   ],
   "source": [
    "len(os.listdir(train_pos_reviews_folder)), len(os.listdir(train_neg_reviews_folder))"
   ]
  },
  {
   "cell_type": "code",
   "execution_count": 14,
   "metadata": {},
   "outputs": [],
   "source": [
    "\n",
    "\"\"\" I need to select 15000 random txt files from test_pos_reviews_folder and \n",
    "    test_neg_reviews_folder -> moves these to a validation folders. ok let's\n",
    "    do this. \"\"\"\n",
    "\n",
    "\"\"\" create validset_folder\"\"\"\n",
    "validset_folder = os.path.join(large_movieset_path, 'valid')\n",
    "os.makedirs(validset_folder, exist_ok=True)\n",
    "\n",
    "\"\"\"create pos and neg folder under validset_folder\"\"\"\n",
    "valid_pos_reviews_folder = os.path.join(validset_folder, 'pos')\n",
    "valid_neg_reviews_folder = os.path.join(validset_folder, 'neg')\n",
    "\n",
    "os.makedirs(valid_pos_reviews_folder, exist_ok=True)\n",
    "os.makedirs(valid_neg_reviews_folder, exist_ok=True)\n"
   ]
  },
  {
   "cell_type": "code",
   "execution_count": 17,
   "metadata": {},
   "outputs": [],
   "source": [
    "import numpy as np\n",
    "\n",
    "\"\"\" select 15000 (7500 + 7500) random .txt files from the test set \"\"\"\n",
    "valid_pos_filenames = np.random.choice(os.listdir(test_pos_reviews_folder),\n",
    "                                       size=7500, replace=False)\n",
    "valid_neg_filenames = np.random.choice(os.listdir(test_neg_reviews_folder),\n",
    "                                       size=7500, replace=False)\n"
   ]
  },
  {
   "cell_type": "code",
   "execution_count": 18,
   "metadata": {},
   "outputs": [
    {
     "data": {
      "text/plain": [
       "array(['1623_8.txt', '10984_10.txt', '7256_10.txt', '5166_10.txt',\n",
       "       '5754_10.txt'], dtype='<U12')"
      ]
     },
     "execution_count": 18,
     "metadata": {},
     "output_type": "execute_result"
    }
   ],
   "source": [
    "valid_pos_filenames[0:5]"
   ]
  },
  {
   "cell_type": "code",
   "execution_count": 22,
   "metadata": {},
   "outputs": [],
   "source": [
    "import shutil \n",
    "\n",
    "def move_from_test_to_valid(from_folder, to_folder, list_of_filenames):\n",
    "    for filename in list_of_filenames:\n",
    "        shutil.move(os.path.join(from_folder, filename), os.path.join(to_folder, filename))\n",
    "        \n",
    "move_from_test_to_valid(test_pos_reviews_folder, valid_pos_reviews_folder, valid_pos_filenames)\n",
    "move_from_test_to_valid(test_neg_reviews_folder, valid_neg_reviews_folder, valid_neg_filenames)"
   ]
  },
  {
   "cell_type": "code",
   "execution_count": 23,
   "metadata": {},
   "outputs": [
    {
     "data": {
      "text/plain": [
       "(12500, 12500)"
      ]
     },
     "execution_count": 23,
     "metadata": {},
     "output_type": "execute_result"
    }
   ],
   "source": [
    "len(os.listdir(train_pos_reviews_folder)), len(os.listdir(train_neg_reviews_folder))"
   ]
  },
  {
   "cell_type": "code",
   "execution_count": 24,
   "metadata": {},
   "outputs": [
    {
     "data": {
      "text/plain": [
       "(5000, 5000)"
      ]
     },
     "execution_count": 24,
     "metadata": {},
     "output_type": "execute_result"
    }
   ],
   "source": [
    "len(os.listdir(test_pos_reviews_folder)), len(os.listdir(test_neg_reviews_folder))"
   ]
  },
  {
   "cell_type": "code",
   "execution_count": 25,
   "metadata": {},
   "outputs": [
    {
     "data": {
      "text/plain": [
       "(7500, 7500)"
      ]
     },
     "execution_count": 25,
     "metadata": {},
     "output_type": "execute_result"
    }
   ],
   "source": [
    "len(os.listdir(valid_pos_reviews_folder)), len(os.listdir(valid_neg_reviews_folder))"
   ]
  },
  {
   "cell_type": "code",
   "execution_count": 47,
   "metadata": {},
   "outputs": [],
   "source": [
    "# use tf.data to create an efficient dataset for each set\n",
    "# tf.data.Dataset.from_tensor_slices(tf.constant(reviews), tf.constant(labels))\n",
    "\n",
    "def create_dataset(positive_reviews_dir, negative_reviews_dir):\n",
    "    reviews, labels = [], []\n",
    "    def iterate_through_files(my_dir, label):\n",
    "        for filename in os.listdir(my_dir):\n",
    "            with open(os.path.join(my_dir, filename)) as f:\n",
    "                file_content = f.read()\n",
    "            reviews.append(file_content)\n",
    "            labels.append(label)\n",
    "    iterate_through_files(positive_reviews_dir, 1)\n",
    "    iterate_through_files(negative_reviews_dir, 0)\n",
    "    \n",
    "    dataset = tf.data.Dataset.from_tensor_slices((tf.constant(reviews),\n",
    "                                               tf.constant(labels)))\n",
    "    \n",
    "    return dataset\n",
    "    "
   ]
  },
  {
   "cell_type": "code",
   "execution_count": 48,
   "metadata": {},
   "outputs": [],
   "source": [
    "trainset = create_dataset(train_pos_reviews_folder, train_neg_reviews_folder)\n",
    "testset = create_dataset(test_pos_reviews_folder, test_neg_reviews_folder)\n",
    "validset = create_dataset(valid_pos_reviews_folder, valid_neg_reviews_folder)"
   ]
  },
  {
   "cell_type": "code",
   "execution_count": 49,
   "metadata": {},
   "outputs": [
    {
     "name": "stdout",
     "output_type": "stream",
     "text": [
      "tf.Tensor(b'For a movie that gets no respect there sure are a lot of memorable quotes listed for this gem. Imagine a movie where Joe Piscopo is actually funny! Maureen Stapleton is a scene stealer. The Moroni character is an absolute scream. Watch for Alan \"The Skipper\" Hale jr. as a police Sgt.', shape=(), dtype=string)\n",
      "tf.Tensor(1, shape=(), dtype=int32)\n"
     ]
    }
   ],
   "source": [
    "for review, label in trainset.take(1):\n",
    "    print(review)\n",
    "    print(label)"
   ]
  },
  {
   "cell_type": "code",
   "execution_count": 51,
   "metadata": {},
   "outputs": [],
   "source": [
    "shuffle_len = int(trainset.__len__())\n",
    "\n",
    "trainset = trainset.shuffle(shuffle_len)"
   ]
  },
  {
   "cell_type": "code",
   "execution_count": 52,
   "metadata": {},
   "outputs": [
    {
     "name": "stdout",
     "output_type": "stream",
     "text": [
      "tf.Tensor(b\"Ya I rented it, so shoot me!<br /><br />A decent premise sets up an otherwise awkward story with no real payoff, but at least it's shot well. Director Jon Keeyes takes the simple idea of a fake haunted house with real danger inside. In most cases this should be a slam dunk, but this little stinker derails quite quickly. The cinematography is above average and the acting is mediocre at best, but the story and writing is just plain awful. Slower scenes drag on forever and the scares are too few and far in between with no real climax to the film. An eerie mood is set at the beginning but loses it's luster before any type of horror transpires, and I found myself bored to death and making another sandwich... The cover art is appealing and I suppose it's worth a rental if you're looking for mindless low budget dreck, but if you enjoy a good story and eventful ending, reach for something else.\", shape=(), dtype=string) tf.Tensor(0, shape=(), dtype=int32)\n",
      "--------------------\n",
      "tf.Tensor(b'I wasn\\'t born until 4 years after this wonderful show first aired but luckily I managed to catch the reruns of the mid 90\\'s and the rest is history......I was hooked. The premise was pretty simple; two hardened Nemesis agents, Richard Barrett and Craig Stirling ( William Gaunt and Stuart Damon) are partnered up with an expert (if not young) Doctor and Biologist (Sharron Macready) to head behind the bamboo curtain to retrieve a dangerous biological agent from being used by red china. Whilst making their escape, their plane is hit by machine gun fire and they crash in the heart of the Himalayas where their lives are saved by a mysterious and previously undiscovered civilisation who heal and enhance the senses of the trio, thus setting the scene for many exciting adventures to come...<br /><br />The series lasted for 30 hour long episodes and I guess it was its relatively short lived, one season run that has set it up for cult status.<br /><br />Monty Berman, the producer, was notorious for making things as cheaply as possible and sometimes the show suffered for this with incredibly tacky sets - particularly in Episodes such as \"Happening\" ( a studio deputising for the Australian outback) and the \\'snow\\' sets of \"Operation Deep Freeze\" and \"The Beginning\" but if you can get past this, and focus on the characters and the story lines, the show was really a lot of fun. It had a great mix of adventure, and plenty of deadpan humour (mainly from some terrific one liners from William Gaunt).<br /><br />The chemistry from the three leads was fantastic - you get the sense that they were really having a lot of fun making the show and this is borne out in the 2005 reunion documentary where the three reunite after over 35 years to reminisce about the show (and laugh about Anthony Nicholls awful wig!!). They all shared equal screen time and all had their moments to shine. I have to say, I was always a Richard Barrett fan - I loved his sardonic humour along with that dangerous edge - he was certainly a man you didn\\'t cross, and those eyes........the bluest eyes you would probably see on TV. I have also followed Bill Gaunts career with interest since. However, Craig Stirling certainly would have had his legion of female fans and I am sure Alexandra Bastedo had a whole queue of male fans swooning over her too.<br /><br />The show also had a plethora of guest stars to entice with, including Donald Sutherland, Jeremy Brett, Peter Wyngarde, Burt Kwouk, Anton Rodgers, Kate O\\'Mara, Jenny Linden, Paul Eddington and Colin Blakely.<br /><br />Notable episodes for me were : \"Auto Kill\", \"The Interrogation\", \"The Fanatics\", \"The Mission\" and \"The Gilded Cage\" but I am sure every one has their personal favourites.<br /><br />If you do get a chance to watch this show for the first time, or to re watch it after many years, remember to watch it in the context of the time it was made and just sit back and enjoy - the characters and the chemistry from the three leads is what made this wonderful show for me and I don\\'t think I will ever tire of it.<br /><br />Enjoy!', shape=(), dtype=string) tf.Tensor(1, shape=(), dtype=int32)\n",
      "--------------------\n",
      "tf.Tensor(b'\"The Crush\" is a pleasant enough 40-something friends romantic chick flick for the first two-thirds or so, as it tries to be a Brit \"Sex and the City\". <br /><br />I particularly enjoyed the turn-around of the trophy young hunk whose character is not much fleshed out (come to think of it we didn\\'t see all that much physical flesh of him either and Kenny Doughty is worth seeing more of). <br /><br />They sure make a lot more deal of young man/older woman than was made of the opposite in either version of \"Sabrina\" (neither movie do I like) or for that matter with the Douglas/Zeta-Jones or Dion/Svengali nuptials.<br /><br />Surrounding Andie MacDowell as an ex pat otherwise are welcome familiars from Brit dramas and comedies, such as tart-tongued Anna Chancellor. <br /><br />The plot twists towards the end feel very deus ex machina. But it wasn\\'t until the credits came up at the end that I realized what might really be wrong. Just as with \"Sex and the City,\" the writer/director is male, here first-timer Scot John McKay, and I think he really wanted to do a script about three gay men, probably about them coming out in relation to their lovers and at work (the characters are a school principal, a cop and a doctor), which would have been a better and more interesting movie. The working title for the film was \"The Sad F*cker\\'s Club\" which would have made its parallels with the gay \"Broken Hearts Club\" even more obvious.<br /><br />(originally written 4/6/2002)', shape=(), dtype=string) tf.Tensor(0, shape=(), dtype=int32)\n",
      "--------------------\n",
      "tf.Tensor(b'A story of obsessive love pushed to its limits and of a lovely swan whose beauty is the very ticket to her own premature demise. Placed at the beginning of talkies, PRIX DE BEAUTE walks a thin line in being a full-on silent film -- which is still is at heart -- and flirting with sound and sound effects. The effect is a little irritating for anyone coming into this film because the recorded audio is extremely tinny and just doesn\\'t help it at all. Hearing sound stage conversation edited over the beginning sequence which takes place in a beach, for example, is as part of the movie as the actress who dubs Louise Brooks\\' dialog and in doing so robs the audience of a fine performance. Other than that, the movie rolls along more or less well, with little jumps in continuity here and there -- something quite common in films from this era -- and has that vague sped up feel typical of silents. In a way, this is an experiment of a movie, and closer to the style of Sergei Eisenstein in visual presentation and near-intimate closeups that elevate it from what would be a more pedestrian level. Louise Brooks here plays a character less flapper than what she was known for: she\\'s a stenographer who on a lark decides to enter a beauty contest despite the furious opposition of her extremely smothering boyfriend. Her role is quite Thirties and contemporary for its time; the last of the flapper/Jazz Baby roles were being shown on screen and now, with the onset of female independence, women as professionals were being represented in film. That Brooks\\'s character decides to leave her boyfriend (even if she does \"reconcile\" with him later) is also a little ahead of her time. However, her character\\'s fatal flaw is its willing to believe what isn\\'t there -- that her boyfriend wants her to succeed -- and this is what leads to her end at the movie theatre. This final sequence looks like something straight out of Hitchcock in its heightened suspense (seen in THE MAN WHO KNEW TOO MUCH) and cuts from Brooks, her image on screen, and the murderous boyfriend. Even more dramatic is the placement of the still singing \"live\" Brooks with the now dead one -- a chilling effect to a chilling, powerful movie.', shape=(), dtype=string) tf.Tensor(1, shape=(), dtype=int32)\n",
      "--------------------\n",
      "tf.Tensor(b'Abhay Deol meets the attractive Soha Ali Khan and greets her \"Hello Sister\"!!!. This sets the tone for a remarkable debut film by Shivam Nair. Soha, a middle class girl has run away from her home in Nainital and come to Delhi to marry her lover, Shayan Munshi. But Shyan doesn\\'t turn up leaving Soha heartbroken & alone in the big bad world. . Abhay, the lower class next door guy turns protective towards the vulnerable Soha and helps her get a job & shelter in an old age home. Slowly romance blooms and Soha agrees to marry Abhay. Then Shyan re-enters into Soha\\'s life.<br /><br />A sensitively made film with a very unusual story, lovingly shot in Delhi, revolves around the delicate Soha. This well crafted film has moments which will forever remain etched in one\\'s memory \\xc2\\x96 the awkward first kiss & Abhay\\'s swift apology; Abhay describing Soha as \"class wali ladki\" & hastily adding \"that he doesn\\'t love her\"; his gifting a churidar to Soha & asking her out for a date.<br /><br />The music is good & the background music excellent. In a scene where Soha rushes & embraces Abhay the sound track disappears. The stillness conveys both the awkwardness & tenderness of the relationship.<br /><br />The poignant ending makes for a bitter sweet film, the memories of which will linger for a long long time.<br /><br />A must see I will rate it 8.5/10', shape=(), dtype=string) tf.Tensor(1, shape=(), dtype=int32)\n",
      "--------------------\n"
     ]
    }
   ],
   "source": [
    "for review, label in trainset.take(5):\n",
    "    print(review, label)\n",
    "    print('-'*20)"
   ]
  },
  {
   "cell_type": "code",
   "execution_count": 54,
   "metadata": {},
   "outputs": [],
   "source": [
    "\"\"\" If the datasets didn't fit in memorywe would have to preprocess the input files\n",
    "    (e.g., converting them to TFRecords). For very large datasets, it would make\n",
    "    sense a tool like Apache Beam or Spark for that.\"\"\"\n",
    "\n",
    "batch_size = 32\n",
    "trainset = trainset.batch(batch_size).prefetch(1)\n",
    "validset = validset.batch(batch_size).prefetch(1)\n",
    "testset = testset.batch(batch_size).prefetch(1)"
   ]
  },
  {
   "cell_type": "code",
   "execution_count": null,
   "metadata": {},
   "outputs": [],
   "source": []
  }
 ],
 "metadata": {
  "kernelspec": {
   "display_name": "venv",
   "language": "python",
   "name": "venv"
  },
  "language_info": {
   "codemirror_mode": {
    "name": "ipython",
    "version": 3
   },
   "file_extension": ".py",
   "mimetype": "text/x-python",
   "name": "python",
   "nbconvert_exporter": "python",
   "pygments_lexer": "ipython3",
   "version": "3.7.9"
  }
 },
 "nbformat": 4,
 "nbformat_minor": 4
}
